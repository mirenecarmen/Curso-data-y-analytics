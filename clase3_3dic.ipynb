{
  "nbformat": 4,
  "nbformat_minor": 0,
  "metadata": {
    "colab": {
      "provenance": [],
      "toc_visible": true,
      "authorship_tag": "ABX9TyPrQ92GuvxQiJg/LEEyInQl",
      "include_colab_link": true
    },
    "kernelspec": {
      "name": "python3",
      "display_name": "Python 3"
    },
    "language_info": {
      "name": "python"
    }
  },
  "cells": [
    {
      "cell_type": "markdown",
      "metadata": {
        "id": "view-in-github",
        "colab_type": "text"
      },
      "source": [
        "<a href=\"https://colab.research.google.com/github/mirenecarmen/Curso-data-y-analytics/blob/main/clase3_3dic.ipynb\" target=\"_parent\"><img src=\"https://colab.research.google.com/assets/colab-badge.svg\" alt=\"Open In Colab\"/></a>"
      ]
    },
    {
      "cell_type": "markdown",
      "source": [
        "Python usos generales II"
      ],
      "metadata": {
        "id": "CpFWtKm5l3N_"
      }
    },
    {
      "cell_type": "markdown",
      "source": [
        "- Uso de For\n",
        "- Comprensión de listas\n",
        "- Mutabilidad e inmutabilidad\n",
        "- Operaciones con diccionarios\n",
        "- Funciones lambda"
      ],
      "metadata": {
        "id": "5X_W54XFl97L"
      }
    },
    {
      "cell_type": "markdown",
      "source": [
        "#- **Uso de For**\n",
        "\n",
        "####✏️El bucle for se utiliza para recorrer los elementos de un objeto **iterable**\n",
        "\n",
        "####✏️Un objeto iterable es aquel que admite la funcion iter()"
      ],
      "metadata": {
        "id": "lLNb0BPZmI_n"
      }
    },
    {
      "cell_type": "markdown",
      "source": [
        "📃 Una lista es iterable porque le puedo pedir valores"
      ],
      "metadata": {
        "id": "ifbGxriTmN-l"
      }
    },
    {
      "cell_type": "code",
      "source": [
        "lista=[10,2,4,3,5,6]\n",
        "iterador=iter(lista)\n",
        "\n"
      ],
      "metadata": {
        "colab": {
          "base_uri": "https://localhost:8080/"
        },
        "id": "JKal1A7Px1XV",
        "outputId": "73d21f4f-9422-4270-b6d4-b91adbd87bff"
      },
      "execution_count": null,
      "outputs": [
        {
          "output_type": "execute_result",
          "data": {
            "text/plain": [
              "<list_iterator at 0x7f58ea964a90>"
            ]
          },
          "metadata": {},
          "execution_count": 5
        }
      ]
    },
    {
      "cell_type": "code",
      "source": [
        "type(iterador)"
      ],
      "metadata": {
        "colab": {
          "base_uri": "https://localhost:8080/"
        },
        "id": "Pcw42IqGyfhJ",
        "outputId": "c71a2091-25e2-49f7-d90e-5fc4fd4dfd64"
      },
      "execution_count": null,
      "outputs": [
        {
          "output_type": "execute_result",
          "data": {
            "text/plain": [
              "list_iterator"
            ]
          },
          "metadata": {},
          "execution_count": 6
        }
      ]
    },
    {
      "cell_type": "markdown",
      "source": [
        "¿como utilizamos este iterador?usamos una funcion que se llama **next()**,le pasamos nuestro iterador,entonces cada vez que haga correr el codigo irá iterando y mostrandome cada eleemtnos de la lista"
      ],
      "metadata": {
        "id": "DXnb9pnSynYJ"
      }
    },
    {
      "cell_type": "code",
      "source": [
        "next(iterador)"
      ],
      "metadata": {
        "colab": {
          "base_uri": "https://localhost:8080/"
        },
        "id": "wPGouP-YzF2X",
        "outputId": "c57d9b42-b6a6-46fa-b7b3-7b150d90432a"
      },
      "execution_count": null,
      "outputs": [
        {
          "output_type": "execute_result",
          "data": {
            "text/plain": [
              "6"
            ]
          },
          "metadata": {},
          "execution_count": 12
        }
      ]
    },
    {
      "cell_type": "markdown",
      "source": [
        "\"puntero\" es una variable que tiene apuntada una direccion de memoria"
      ],
      "metadata": {
        "id": "0SNc__zAzfNn"
      }
    },
    {
      "cell_type": "markdown",
      "source": [
        "📃 Los strings tambien son iterables\n",
        "\n",
        "por ejemplo:"
      ],
      "metadata": {
        "id": "h0dx44wTmfNk"
      }
    },
    {
      "cell_type": "code",
      "source": [
        "pais='Argentina'"
      ],
      "metadata": {
        "id": "hGklklHNzysW"
      },
      "execution_count": null,
      "outputs": []
    },
    {
      "cell_type": "code",
      "source": [
        "iterador=iter(pais)"
      ],
      "metadata": {
        "id": "jzFQqebn0CdF"
      },
      "execution_count": null,
      "outputs": []
    },
    {
      "cell_type": "code",
      "source": [
        "next(iterador)"
      ],
      "metadata": {
        "colab": {
          "base_uri": "https://localhost:8080/",
          "height": 36
        },
        "id": "Zm3BQ1sF0JYU",
        "outputId": "36aabdaf-b189-4823-ebd3-d5b1b2832266"
      },
      "execution_count": null,
      "outputs": [
        {
          "output_type": "execute_result",
          "data": {
            "text/plain": [
              "'e'"
            ],
            "application/vnd.google.colaboratory.intrinsic+json": {
              "type": "string"
            }
          },
          "metadata": {},
          "execution_count": 18
        }
      ]
    },
    {
      "cell_type": "markdown",
      "source": [
        "observamos que llama por letras.\n",
        "\n",
        "pero tambien podemos hacer que itere una lista de string"
      ],
      "metadata": {
        "id": "dsLtPxPW0N01"
      }
    },
    {
      "cell_type": "code",
      "source": [
        "lista_paises=['Argentina','uruguay','Chile']"
      ],
      "metadata": {
        "id": "TYnoeIER0Uml"
      },
      "execution_count": null,
      "outputs": []
    },
    {
      "cell_type": "code",
      "source": [
        "iterador=iter(lista_paises)"
      ],
      "metadata": {
        "id": "l45HTbGe0hg1"
      },
      "execution_count": null,
      "outputs": []
    },
    {
      "cell_type": "code",
      "source": [
        "next(iterador)"
      ],
      "metadata": {
        "colab": {
          "base_uri": "https://localhost:8080/",
          "height": 36
        },
        "id": "d8QmVwo60lUt",
        "outputId": "44412ade-5b2e-448c-84e8-cfe74122b86b"
      },
      "execution_count": null,
      "outputs": [
        {
          "output_type": "execute_result",
          "data": {
            "text/plain": [
              "'Chile'"
            ],
            "application/vnd.google.colaboratory.intrinsic+json": {
              "type": "string"
            }
          },
          "metadata": {},
          "execution_count": 23
        }
      ]
    },
    {
      "cell_type": "markdown",
      "source": [
        "📃El FOR nos ayuda a iterar en estos objetos, va a pedir todos los elementos hasta que se acaben.\n",
        "\n",
        "📃En cada paso de la iteración se tiene en cuenta a un único elemento del objeto iterable, sobre el cuál se pueden aplicar una serie de operaciones.\n",
        "\n",
        "📃Tiene la siguiente estructura:"
      ],
      "metadata": {
        "id": "U7MESQk6mkB8"
      }
    },
    {
      "cell_type": "code",
      "source": [
        "for variable in iterable:\n",
        "    ##mi codigo"
      ],
      "metadata": {
        "id": "dTzuNeCzqPDa"
      },
      "execution_count": null,
      "outputs": []
    },
    {
      "cell_type": "code",
      "source": [
        "numeros=[1,3,2,4]"
      ],
      "metadata": {
        "id": "EGpd08wR1P2v"
      },
      "execution_count": null,
      "outputs": []
    },
    {
      "cell_type": "markdown",
      "source": [
        "por cada elementos de mi lista de nros,imprimir numeros\n",
        "\n",
        "con el FOR no necesitas autoincrementar,la funcion solita va recorriendo"
      ],
      "metadata": {
        "id": "mjgUQl-X1W8K"
      }
    },
    {
      "cell_type": "code",
      "source": [
        "for numero in numeros:\n",
        " print(numero)"
      ],
      "metadata": {
        "colab": {
          "base_uri": "https://localhost:8080/"
        },
        "id": "6cjdRmQk1awR",
        "outputId": "cc4c4796-dc69-467a-eff1-da4953a8b74d"
      },
      "execution_count": null,
      "outputs": [
        {
          "output_type": "stream",
          "name": "stdout",
          "text": [
            "1\n",
            "3\n",
            "2\n",
            "4\n"
          ]
        }
      ]
    },
    {
      "cell_type": "markdown",
      "source": [
        "quiero que la suma sea igual a la suma mas el nro,ademas printear.sumar todos los numeros d ela lista de nros"
      ],
      "metadata": {
        "id": "zJBj_tc12Pmg"
      }
    },
    {
      "cell_type": "code",
      "source": [
        "suma=0\n",
        "for nro in numeros:\n",
        "  suma=suma + nro\n",
        "  print(f'en esta iteracion se sumó el numero {nro} y el total de la suma es {suma}')"
      ],
      "metadata": {
        "colab": {
          "base_uri": "https://localhost:8080/"
        },
        "id": "xuv6NN4d2mMg",
        "outputId": "dc6c8ba2-5681-4a84-947a-212549549f09"
      },
      "execution_count": null,
      "outputs": [
        {
          "output_type": "stream",
          "name": "stdout",
          "text": [
            "en esta iteracion se sumó el numero 1 y el total de la suma es 1\n",
            "en esta iteracion se sumó el numero 3 y el total de la suma es 4\n",
            "en esta iteracion se sumó el numero 2 y el total de la suma es 6\n",
            "en esta iteracion se sumó el numero 4 y el total de la suma es 10\n"
          ]
        }
      ]
    },
    {
      "cell_type": "markdown",
      "source": [
        "📃 Realizar la suma de los numeros comprendidos entre el 1 al 20 incluyendo ambos extremos\n",
        "\n",
        "en este ejemplo podria ingresar los numeros manualmetne del 1 al 20,pero hay una funcion llamada *range()* que permite de una sola vez crearme una lista de nros desde y hasta el valor que quiero +1"
      ],
      "metadata": {
        "id": "gJuQ0_9nqU1R"
      }
    },
    {
      "cell_type": "code",
      "source": [
        "list(range(1,21))"
      ],
      "metadata": {
        "colab": {
          "base_uri": "https://localhost:8080/"
        },
        "id": "lHWOIFEV3nfb",
        "outputId": "e59648c9-4b3c-4f03-dc86-0a98af2e4fd2"
      },
      "execution_count": null,
      "outputs": [
        {
          "output_type": "execute_result",
          "data": {
            "text/plain": [
              "[1, 2, 3, 4, 5, 6, 7, 8, 9, 10, 11, 12, 13, 14, 15, 16, 17, 18, 19, 20]"
            ]
          },
          "metadata": {},
          "execution_count": 29
        }
      ]
    },
    {
      "cell_type": "code",
      "source": [
        "type(range(1,21))"
      ],
      "metadata": {
        "colab": {
          "base_uri": "https://localhost:8080/"
        },
        "id": "8mx8USHK4dSl",
        "outputId": "971e4a56-6c37-4ff1-f9a5-0339637e8e61"
      },
      "execution_count": null,
      "outputs": [
        {
          "output_type": "execute_result",
          "data": {
            "text/plain": [
              "range"
            ]
          },
          "metadata": {},
          "execution_count": 31
        }
      ]
    },
    {
      "cell_type": "code",
      "source": [
        "suma=0\n",
        "for nro in list(range(1,21)):\n",
        "  suma=suma + nro\n",
        "  print(f'en esta iteracion se sumó el numero {nro} y el total de la suma es {suma}')"
      ],
      "metadata": {
        "colab": {
          "base_uri": "https://localhost:8080/"
        },
        "id": "_RsqFKmZ4z9U",
        "outputId": "0d0b74df-80f2-4b0a-cf6d-10b93df98c18"
      },
      "execution_count": null,
      "outputs": [
        {
          "output_type": "stream",
          "name": "stdout",
          "text": [
            "en esta iteracion se sumó el numero 1 y el total de la suma es 1\n",
            "en esta iteracion se sumó el numero 2 y el total de la suma es 3\n",
            "en esta iteracion se sumó el numero 3 y el total de la suma es 6\n",
            "en esta iteracion se sumó el numero 4 y el total de la suma es 10\n",
            "en esta iteracion se sumó el numero 5 y el total de la suma es 15\n",
            "en esta iteracion se sumó el numero 6 y el total de la suma es 21\n",
            "en esta iteracion se sumó el numero 7 y el total de la suma es 28\n",
            "en esta iteracion se sumó el numero 8 y el total de la suma es 36\n",
            "en esta iteracion se sumó el numero 9 y el total de la suma es 45\n",
            "en esta iteracion se sumó el numero 10 y el total de la suma es 55\n",
            "en esta iteracion se sumó el numero 11 y el total de la suma es 66\n",
            "en esta iteracion se sumó el numero 12 y el total de la suma es 78\n",
            "en esta iteracion se sumó el numero 13 y el total de la suma es 91\n",
            "en esta iteracion se sumó el numero 14 y el total de la suma es 105\n",
            "en esta iteracion se sumó el numero 15 y el total de la suma es 120\n",
            "en esta iteracion se sumó el numero 16 y el total de la suma es 136\n",
            "en esta iteracion se sumó el numero 17 y el total de la suma es 153\n",
            "en esta iteracion se sumó el numero 18 y el total de la suma es 171\n",
            "en esta iteracion se sumó el numero 19 y el total de la suma es 190\n",
            "en esta iteracion se sumó el numero 20 y el total de la suma es 210\n"
          ]
        }
      ]
    },
    {
      "cell_type": "markdown",
      "source": [
        "otro ejemplo:"
      ],
      "metadata": {
        "id": "rG3ngjcP4bEE"
      }
    },
    {
      "cell_type": "code",
      "source": [
        "list(range(4,7))"
      ],
      "metadata": {
        "colab": {
          "base_uri": "https://localhost:8080/"
        },
        "id": "2sFpqyLP4RAt",
        "outputId": "1c983b2e-e2d8-463d-a611-38f792fedc07"
      },
      "execution_count": null,
      "outputs": [
        {
          "output_type": "execute_result",
          "data": {
            "text/plain": [
              "[4, 5, 6]"
            ]
          },
          "metadata": {},
          "execution_count": 30
        }
      ]
    },
    {
      "cell_type": "markdown",
      "source": [
        "📃 Necesitamos printear los nombres de los strings dentro de una lista"
      ],
      "metadata": {
        "id": "MmR9LV2kqarK"
      }
    },
    {
      "cell_type": "code",
      "source": [
        "lista_nombres=['pedro','Gisella','Agustin','Marcelo']"
      ],
      "metadata": {
        "id": "ajR1JETb5Mh3"
      },
      "execution_count": null,
      "outputs": []
    },
    {
      "cell_type": "code",
      "source": [
        "for nombre in lista_nombres:\n",
        "  print(nombre)"
      ],
      "metadata": {
        "colab": {
          "base_uri": "https://localhost:8080/"
        },
        "id": "5atL-fhY5bMZ",
        "outputId": "37104dac-9007-48bd-91d0-6845f1b26591"
      },
      "execution_count": null,
      "outputs": [
        {
          "output_type": "stream",
          "name": "stdout",
          "text": [
            "pedro\n",
            "Gisella\n",
            "Agustin\n",
            "Marcelo\n"
          ]
        }
      ]
    },
    {
      "cell_type": "markdown",
      "source": [
        "tambien puedo enumerar cada elemento con su subindice dentro de la lista,con la funcion **enumerate()**\n",
        "\n",
        "y obtengo como resultado una ¿¿¿que cosa???"
      ],
      "metadata": {
        "id": "Ikl4q5QN5pp7"
      }
    },
    {
      "cell_type": "code",
      "source": [
        "list(enumerate(lista_nombres))"
      ],
      "metadata": {
        "colab": {
          "base_uri": "https://localhost:8080/"
        },
        "id": "_e4l-4Kr54HB",
        "outputId": "1aafab8f-4e78-4f40-9a81-257531c0e927"
      },
      "execution_count": null,
      "outputs": [
        {
          "output_type": "execute_result",
          "data": {
            "text/plain": [
              "[(0, 'pedro'), (1, 'Gisella'), (2, 'Agustin'), (3, 'Marcelo')]"
            ]
          },
          "metadata": {},
          "execution_count": 35
        }
      ]
    },
    {
      "cell_type": "markdown",
      "source": [
        "**Diccionarios**\n",
        "\n",
        "Podemos trasladar el concepto de diccionario de la vida real al de diccionario en Python. Al fin y al cabo un diccionario es un objeto que contiene palabras, y cada palabra (clave) tiene asociado un significado (el valor)\n",
        "\n",
        "Las claves deben ser únicas en un diccionario y no se permiten repeticiones.\n",
        "\n",
        "![](https://aprendepython.es/_images/dicts.jpg) ![](https://programmathically.com/wp-content/uploads/2021/05/dictionary-1024x554.png)\n",
        "\n",
        "📌Crear un diccionario que tenga como claves los nombres de los paises y como valor su PBI: *para crear un diccionario usamos llaves {} rodeando asignaciones clave: valor que están separadas por comas.*\n",
        "\n",
        "**PBI en miles de millones (2021):**\n",
        "\n",
        "Argentina = 388.28\n",
        "Brasil = 1434.08\n",
        "Chile = 252.76\n",
        "Paraguay = 35.88\n",
        "Uruguay = 55.71\n"
      ],
      "metadata": {
        "id": "NAYKU_9xqg0g"
      }
    },
    {
      "cell_type": "markdown",
      "source": [
        "si necesito en archivo jason debo poner **commillas dobles**"
      ],
      "metadata": {
        "id": "ATzNAl3T7SF1"
      }
    },
    {
      "cell_type": "code",
      "source": [
        "paises_pbi={'Argentina':388.28,'Brasil':1434.08,'Chile':252.76,'paraguay':35.88,'Uruguay':55.71}"
      ],
      "metadata": {
        "id": "jME86meF6lxG"
      },
      "execution_count": null,
      "outputs": []
    },
    {
      "cell_type": "code",
      "source": [
        "paises_pbi"
      ],
      "metadata": {
        "colab": {
          "base_uri": "https://localhost:8080/"
        },
        "id": "aXAMJS8c7F08",
        "outputId": "4b3a40d5-f2c3-4332-e8c4-c169585378ff"
      },
      "execution_count": null,
      "outputs": [
        {
          "output_type": "execute_result",
          "data": {
            "text/plain": [
              "{'Argentina': 388.28,\n",
              " 'Brasil': 1434.08,\n",
              " 'Chile': 252.76,\n",
              " 'paraguay': 35.88,\n",
              " 'Uruguay': 55.71}"
            ]
          },
          "metadata": {},
          "execution_count": 40
        }
      ]
    },
    {
      "cell_type": "markdown",
      "source": [
        "📌 Obtener el valor del PBI de Argentina y pasarlo de miles de millones de dolares a dolares\n",
        "\n",
        "¿como accedo al valor que tiene la clave?primero busco la clave(Argentina) y luego ,coomo tengo que pasarlo a dolares,lo multiplico por 10"
      ],
      "metadata": {
        "id": "m4AW-BFqqzxw"
      }
    },
    {
      "cell_type": "code",
      "source": [
        "paises_pbi['Argentina']*10**12"
      ],
      "metadata": {
        "colab": {
          "base_uri": "https://localhost:8080/"
        },
        "id": "MAH01jVK7w_V",
        "outputId": "defac735-c1ea-41a3-fe41-8443645d5a1a"
      },
      "execution_count": null,
      "outputs": [
        {
          "output_type": "execute_result",
          "data": {
            "text/plain": [
              "388280000000000.0"
            ]
          },
          "metadata": {},
          "execution_count": 41
        }
      ]
    },
    {
      "cell_type": "markdown",
      "source": [
        "📌 ¿Que pasa si intentamos acceder a una clave que no existe?"
      ],
      "metadata": {
        "id": "Hj0UcBwfq7bi"
      }
    },
    {
      "cell_type": "code",
      "source": [
        "paises_pbi['Mexico']"
      ],
      "metadata": {
        "colab": {
          "base_uri": "https://localhost:8080/",
          "height": 172
        },
        "id": "kTnZoiMF8Wsx",
        "outputId": "8991e1e2-3178-4a1c-d185-09ed264ecf3c"
      },
      "execution_count": null,
      "outputs": [
        {
          "output_type": "error",
          "ename": "KeyError",
          "evalue": "ignored",
          "traceback": [
            "\u001b[0;31m---------------------------------------------------------------------------\u001b[0m",
            "\u001b[0;31mKeyError\u001b[0m                                  Traceback (most recent call last)",
            "\u001b[0;32m<ipython-input-42-889b34dbb20a>\u001b[0m in \u001b[0;36m<module>\u001b[0;34m\u001b[0m\n\u001b[0;32m----> 1\u001b[0;31m \u001b[0mpaises_pbi\u001b[0m\u001b[0;34m[\u001b[0m\u001b[0;34m'Mexico'\u001b[0m\u001b[0;34m]\u001b[0m\u001b[0;34m\u001b[0m\u001b[0;34m\u001b[0m\u001b[0m\n\u001b[0m",
            "\u001b[0;31mKeyError\u001b[0m: 'Mexico'"
          ]
        }
      ]
    },
    {
      "cell_type": "markdown",
      "source": [
        "**📌** Añadir o modificar un elemento:\n",
        "\n",
        "Para añadir un elemento a un diccionario sólo es necesario hacer referencia a la clave y asignarle un valor:\n",
        "\n",
        "- Si la clave ya existía en el diccionario, se reemplaza el valor existente por el nuevo.\n",
        "\n",
        "- Si la clave es nueva, se añade al diccionario con su valor.\n",
        "\n",
        "por ejemplo:quiero modificar \"Argentina\" (ya existe),entonces se rremplazará el valor "
      ],
      "metadata": {
        "id": "5ujytoYKrA2X"
      }
    },
    {
      "cell_type": "code",
      "source": [
        "paises_pbi['Argentina'] = 'el mejor pais'"
      ],
      "metadata": {
        "id": "RSG4nJc38t4w"
      },
      "execution_count": null,
      "outputs": []
    },
    {
      "cell_type": "code",
      "source": [
        "paises_pbi"
      ],
      "metadata": {
        "colab": {
          "base_uri": "https://localhost:8080/"
        },
        "id": "5stR0MQF85dX",
        "outputId": "1cfff3b1-d66d-4e8b-85f1-c2a945d0b3c2"
      },
      "execution_count": null,
      "outputs": [
        {
          "output_type": "execute_result",
          "data": {
            "text/plain": [
              "{'Argentina': 'el mejor pais',\n",
              " 'Brasil': 1434.08,\n",
              " 'Chile': 252.76,\n",
              " 'paraguay': 35.88,\n",
              " 'Uruguay': 55.71}"
            ]
          },
          "metadata": {},
          "execution_count": 44
        }
      ]
    },
    {
      "cell_type": "markdown",
      "source": [
        "si la clave es nueva,veamos que sucede:"
      ],
      "metadata": {
        "id": "IHsHvB6j9AKw"
      }
    },
    {
      "cell_type": "code",
      "source": [
        "paises_pbi['Mexico']='tiene camiseta verde'"
      ],
      "metadata": {
        "id": "YLvfENlP9Dhf"
      },
      "execution_count": null,
      "outputs": []
    },
    {
      "cell_type": "code",
      "source": [
        "paises_pbi"
      ],
      "metadata": {
        "colab": {
          "base_uri": "https://localhost:8080/"
        },
        "id": "jBbMhbJG9L7G",
        "outputId": "80cb0a9c-4793-45f8-9f5e-28d1708d198b"
      },
      "execution_count": null,
      "outputs": [
        {
          "output_type": "execute_result",
          "data": {
            "text/plain": [
              "{'Argentina': 'el mejor pais',\n",
              " 'Brasil': 1434.08,\n",
              " 'Chile': 252.76,\n",
              " 'paraguay': 35.88,\n",
              " 'Uruguay': 55.71,\n",
              " 'Mexico': 'tiene camiseta verde'}"
            ]
          },
          "metadata": {},
          "execution_count": 46
        }
      ]
    },
    {
      "cell_type": "markdown",
      "source": [
        ":La forma de comprobar la existencia de una clave dentro de un diccionario, es utilizar el operador **in**:\n",
        "\n",
        "es para saber si el elemento existe en la lista"
      ],
      "metadata": {
        "id": "xheY8YKurKkX"
      }
    },
    {
      "cell_type": "code",
      "source": [
        "'Argentina' in paises_pbi"
      ],
      "metadata": {
        "colab": {
          "base_uri": "https://localhost:8080/"
        },
        "id": "3CsU9-sg9cTN",
        "outputId": "3871eb60-4190-4420-8635-c4b18e68b917"
      },
      "execution_count": null,
      "outputs": [
        {
          "output_type": "execute_result",
          "data": {
            "text/plain": [
              "True"
            ]
          },
          "metadata": {},
          "execution_count": 47
        }
      ]
    },
    {
      "cell_type": "code",
      "source": [
        "'Belgica' in paises_pbi"
      ],
      "metadata": {
        "colab": {
          "base_uri": "https://localhost:8080/"
        },
        "id": "woJSq7hS9hml",
        "outputId": "09873699-c52b-4c2d-d294-2be5fac24f68"
      },
      "execution_count": null,
      "outputs": [
        {
          "output_type": "execute_result",
          "data": {
            "text/plain": [
              "False"
            ]
          },
          "metadata": {},
          "execution_count": 48
        }
      ]
    },
    {
      "cell_type": "markdown",
      "source": [
        "📌Crear un diccionario que tenga como **clave** el año y como **valor** una lista donde el primer elemento es el el PBI estimado de EEUU y el segundo el de CHINA\n",
        "\n",
        "\n",
        "![](data:image/png;base64,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)\n"
      ],
      "metadata": {
        "id": "nvu1QQQ-rTAn"
      }
    },
    {
      "cell_type": "code",
      "source": [
        "estimacion_pbi={\n",
        " 2020: [20932.8, 14722.8],\n",
        " 2021: [22675.3, 16642.3],\n",
        " 2022: [24003.7, 18013.4],\n",
        " 2023: [24892.6, 19423.5],\n",
        " 2024: [25790.1, 20910.5],\n",
        " 2025: [26719.6, 22481.4],\n",
        " 2026: [27659.2, 24127.8]\n",
        "}"
      ],
      "metadata": {
        "id": "oMMVCO6n99ac"
      },
      "execution_count": null,
      "outputs": []
    },
    {
      "cell_type": "code",
      "source": [
        "estimacion_pbi"
      ],
      "metadata": {
        "colab": {
          "base_uri": "https://localhost:8080/"
        },
        "id": "_6lIOiTU-nJc",
        "outputId": "269efc48-8b5f-4839-96b2-a0b161fc4e96"
      },
      "execution_count": null,
      "outputs": [
        {
          "output_type": "execute_result",
          "data": {
            "text/plain": [
              "{2020: [20932.8, 14722.8],\n",
              " 2021: [22675.3, 16642.3],\n",
              " 2022: [24003.7, 18013.4],\n",
              " 2023: [24892.6, 19423.5],\n",
              " 2024: [25790.1, 20910.5],\n",
              " 2025: [26719.6, 22481.4],\n",
              " 2026: [27659.2, 24127.8]}"
            ]
          },
          "metadata": {},
          "execution_count": 50
        }
      ]
    },
    {
      "cell_type": "markdown",
      "source": [
        "📌 Obtener solo los valores del diccionario\n",
        "\n",
        "utilizo **values**"
      ],
      "metadata": {
        "id": "ISkig-XDrdC2"
      }
    },
    {
      "cell_type": "code",
      "source": [
        "list(estimacion_pbi.values())"
      ],
      "metadata": {
        "colab": {
          "base_uri": "https://localhost:8080/"
        },
        "id": "hu-HLoezADDe",
        "outputId": "7ac25a7d-799f-4d01-8a14-d0827487e182"
      },
      "execution_count": null,
      "outputs": [
        {
          "output_type": "execute_result",
          "data": {
            "text/plain": [
              "[[20932.8, 14722.8],\n",
              " [22675.3, 16642.3],\n",
              " [24003.7, 18013.4],\n",
              " [24892.6, 19423.5],\n",
              " [25790.1, 20910.5],\n",
              " [26719.6, 22481.4],\n",
              " [27659.2, 24127.8]]"
            ]
          },
          "metadata": {},
          "execution_count": 54
        }
      ]
    },
    {
      "cell_type": "code",
      "source": [],
      "metadata": {
        "id": "hAzhtsFB_28S"
      },
      "execution_count": null,
      "outputs": []
    },
    {
      "cell_type": "markdown",
      "source": [
        "📌 Obtener solo los años que maneja el dataset\n",
        "\n",
        "utilizo **keys**"
      ],
      "metadata": {
        "id": "sskliR3Crime"
      }
    },
    {
      "cell_type": "code",
      "source": [
        "list(estimacion_pbi.keys())"
      ],
      "metadata": {
        "colab": {
          "base_uri": "https://localhost:8080/"
        },
        "id": "9osBJx2__h94",
        "outputId": "2280f840-b431-4ca5-c3d0-1dc9b9feb3cc"
      },
      "execution_count": null,
      "outputs": [
        {
          "output_type": "execute_result",
          "data": {
            "text/plain": [
              "[2020, 2021, 2022, 2023, 2024, 2025, 2026]"
            ]
          },
          "metadata": {},
          "execution_count": 52
        }
      ]
    },
    {
      "cell_type": "markdown",
      "source": [
        "📌 Longitud de un diccionario\n",
        "\n",
        "utilizo **len()**"
      ],
      "metadata": {
        "id": "nr8AIKSZrmu2"
      }
    },
    {
      "cell_type": "code",
      "source": [
        "len(estimacion_pbi)"
      ],
      "metadata": {
        "colab": {
          "base_uri": "https://localhost:8080/"
        },
        "id": "XOfccOTsAaRF",
        "outputId": "175ad333-143f-4bce-bb84-93305dd5293c"
      },
      "execution_count": null,
      "outputs": [
        {
          "output_type": "execute_result",
          "data": {
            "text/plain": [
              "7"
            ]
          },
          "metadata": {},
          "execution_count": 55
        }
      ]
    },
    {
      "cell_type": "markdown",
      "source": [
        "📌 Como interactua con un FOR?"
      ],
      "metadata": {
        "id": "TYyp-yzirrm-"
      }
    },
    {
      "cell_type": "code",
      "source": [
        "for clave in estimacion_pbi:\n",
        "  print(estimacion_pbi[clave])"
      ],
      "metadata": {
        "colab": {
          "base_uri": "https://localhost:8080/"
        },
        "id": "L8eOrMbdAnUc",
        "outputId": "0d9cc607-dbce-44f8-dc09-22ba843121d4"
      },
      "execution_count": null,
      "outputs": [
        {
          "output_type": "stream",
          "name": "stdout",
          "text": [
            "[20932.8, 14722.8]\n",
            "[22675.3, 16642.3]\n",
            "[24003.7, 18013.4]\n",
            "[24892.6, 19423.5]\n",
            "[25790.1, 20910.5]\n",
            "[26719.6, 22481.4]\n",
            "[27659.2, 24127.8]\n"
          ]
        }
      ]
    },
    {
      "cell_type": "markdown",
      "source": [
        "ahora solo itero sobre la lista de valores"
      ],
      "metadata": {
        "id": "7M37wzp2BQv7"
      }
    },
    {
      "cell_type": "markdown",
      "source": [
        "Escriba un programa en Python que acepte una lista de palabras y las agrupe por su letra inicial usando un diccionario\n",
        "\n",
        "con \"letra=palabra[0]\" hago que por cada palabra del diccionario saque la primera letra"
      ],
      "metadata": {
        "id": "Q4Mm1W8Sry-d"
      }
    },
    {
      "cell_type": "code",
      "source": [
        "palabras = [\n",
        "    'mesa',\n",
        "    'móvil',\n",
        "    'barco',\n",
        "    'coche',\n",
        "    'avión',\n",
        "    'bandeja',\n",
        "    'casa',\n",
        "    'monitor',\n",
        "    'carretera',\n",
        "    'arco',\n",
        "]"
      ],
      "metadata": {
        "id": "RR9hwWpFBeVJ"
      },
      "execution_count": null,
      "outputs": []
    },
    {
      "cell_type": "code",
      "source": [
        "dict_pal={}\n",
        "for palabra in palabras:\n",
        "   letra = palabra[0]\n",
        "\n",
        "   if letra not in dict_pal:\n",
        "     dict_pal[letra]=[palabra]\n",
        "   else:\n",
        "     dict_pal[letra].append(palabra)\n",
        "  \n",
        "dict_pal\n",
        "\n",
        "\n"
      ],
      "metadata": {
        "id": "v6WulYOOCTXY",
        "colab": {
          "base_uri": "https://localhost:8080/"
        },
        "outputId": "eccecf3a-1aca-4b11-c1e3-b3d863d84dd2"
      },
      "execution_count": null,
      "outputs": [
        {
          "output_type": "execute_result",
          "data": {
            "text/plain": [
              "{'m': ['mesa', 'móvil', 'monitor'],\n",
              " 'b': ['barco', 'bandeja'],\n",
              " 'c': ['coche', 'casa', 'carretera'],\n",
              " 'a': ['avión', 'arco']}"
            ]
          },
          "metadata": {},
          "execution_count": 61
        }
      ]
    },
    {
      "cell_type": "code",
      "source": [
        "dict_pal={}\n",
        "for palabra in palabras:\n",
        "   letra = palabra[0]\n",
        "   print(palabra[0])\n",
        "\n",
        "   if letra not in dict_pal:\n",
        "     print(f'no existe la letra,agregando {letra}')\n",
        "     dict_pal[letra]=[palabra]\n",
        "   else:\n",
        "     print(f'apendeando {palabra} al diccionario')\n",
        "     dict_pal[letra].append(palabra)\n",
        "  \n",
        "dict_pal"
      ],
      "metadata": {
        "colab": {
          "base_uri": "https://localhost:8080/"
        },
        "id": "5klKUfLVD2TM",
        "outputId": "bddcc28e-882a-443a-faa7-5f56eb70847b"
      },
      "execution_count": null,
      "outputs": [
        {
          "output_type": "stream",
          "name": "stdout",
          "text": [
            "m\n",
            "no existe la letra,agregando m\n",
            "m\n",
            "apendeando móvil al diccionario\n",
            "b\n",
            "no existe la letra,agregando b\n",
            "c\n",
            "no existe la letra,agregando c\n",
            "a\n",
            "no existe la letra,agregando a\n",
            "b\n",
            "apendeando bandeja al diccionario\n",
            "c\n",
            "apendeando casa al diccionario\n",
            "m\n",
            "apendeando monitor al diccionario\n",
            "c\n",
            "apendeando carretera al diccionario\n",
            "a\n",
            "apendeando arco al diccionario\n"
          ]
        },
        {
          "output_type": "execute_result",
          "data": {
            "text/plain": [
              "{'m': ['mesa', 'móvil', 'monitor'],\n",
              " 'b': ['barco', 'bandeja'],\n",
              " 'c': ['coche', 'casa', 'carretera'],\n",
              " 'a': ['avión', 'arco']}"
            ]
          },
          "metadata": {},
          "execution_count": 62
        }
      ]
    },
    {
      "cell_type": "markdown",
      "source": [
        "# **Compresión de listas**"
      ],
      "metadata": {
        "id": "23ldsmw7sCiF"
      }
    },
    {
      "cell_type": "markdown",
      "source": [
        "Es una forma \"linda\" y compacta de crear listas a partir de un iterable, hay que saber utilizar esta estructura porque se usa muchisimo."
      ],
      "metadata": {
        "id": "aMROPK7tsEW0"
      }
    },
    {
      "cell_type": "markdown",
      "source": [
        "📌Ejercicio: Generar una lista de con la ***función*** range()"
      ],
      "metadata": {
        "id": "xFRz9xKGsKbj"
      }
    },
    {
      "cell_type": "code",
      "source": [
        "listaNumeros=list(range(5))\n",
        "listaNumeros"
      ],
      "metadata": {
        "colab": {
          "base_uri": "https://localhost:8080/"
        },
        "id": "P8c0QbsKFAsf",
        "outputId": "515e61a5-2572-4951-d76c-5a200ad62278"
      },
      "execution_count": null,
      "outputs": [
        {
          "output_type": "execute_result",
          "data": {
            "text/plain": [
              "[0, 1, 2, 3, 4]"
            ]
          },
          "metadata": {},
          "execution_count": 7
        }
      ]
    },
    {
      "cell_type": "markdown",
      "source": [
        "📌Ejercicio: Multiplicar a cada elemento de la lista dada por 2"
      ],
      "metadata": {
        "id": "g6v9naH4sRBE"
      }
    },
    {
      "cell_type": "code",
      "source": [
        "listanueva=[]\n",
        "for numero in listaNumeros:\n",
        "  listanueva.append(numero*2)\n",
        "\n",
        "listanueva\n"
      ],
      "metadata": {
        "colab": {
          "base_uri": "https://localhost:8080/"
        },
        "id": "CBjymzgXFevN",
        "outputId": "02dc51c5-e614-493a-c6c8-ec61a49ed2cd"
      },
      "execution_count": null,
      "outputs": [
        {
          "output_type": "execute_result",
          "data": {
            "text/plain": [
              "[0, 2, 4, 6, 8]"
            ]
          },
          "metadata": {},
          "execution_count": 65
        }
      ]
    },
    {
      "cell_type": "code",
      "source": [
        "len(listaNumeros)"
      ],
      "metadata": {
        "colab": {
          "base_uri": "https://localhost:8080/"
        },
        "id": "6W_2s9Z7GnIK",
        "outputId": "97270c11-752f-49da-c477-a3ea81bf8737"
      },
      "execution_count": null,
      "outputs": [
        {
          "output_type": "execute_result",
          "data": {
            "text/plain": [
              "5"
            ]
          },
          "metadata": {},
          "execution_count": 68
        }
      ]
    },
    {
      "cell_type": "code",
      "source": [
        "for numero in range(len(listaNumeros)):\n",
        "  listaNumeros[numero]=listaNumeros[numero]*2\n",
        "\n",
        "listaNumeros"
      ],
      "metadata": {
        "colab": {
          "base_uri": "https://localhost:8080/"
        },
        "id": "BAeAMpUYF_Tk",
        "outputId": "4c4b78b1-7818-4165-a3eb-310b4a2e2dfc"
      },
      "execution_count": null,
      "outputs": [
        {
          "output_type": "execute_result",
          "data": {
            "text/plain": [
              "[0, 2, 4, 6, 8]"
            ]
          },
          "metadata": {},
          "execution_count": 8
        }
      ]
    },
    {
      "cell_type": "markdown",
      "source": [
        "📌 Ahora hacerlo con compresion de listas"
      ],
      "metadata": {
        "id": "JK-Y_-jKsXgL"
      }
    },
    {
      "cell_type": "markdown",
      "source": [
        "![](https://aprendepython.es/_images/list-comprehensions.png)"
      ],
      "metadata": {
        "id": "PayGZMTuuf58"
      }
    },
    {
      "cell_type": "code",
      "source": [
        "listaNueva=[elemento for elemento in listaNumeros]\n",
        "listaNueva"
      ],
      "metadata": {
        "colab": {
          "base_uri": "https://localhost:8080/"
        },
        "id": "vVd01djaHifY",
        "outputId": "054207bb-c9e5-428a-b63c-d5505aa660c8"
      },
      "execution_count": null,
      "outputs": [
        {
          "output_type": "execute_result",
          "data": {
            "text/plain": [
              "[0, 2, 4, 6, 8]"
            ]
          },
          "metadata": {},
          "execution_count": 9
        }
      ]
    },
    {
      "cell_type": "markdown",
      "source": [
        "pone cada elemento en la lista de numeros"
      ],
      "metadata": {
        "id": "GUker9wsHe2Y"
      }
    },
    {
      "cell_type": "code",
      "source": [
        "id(listaNumeros)"
      ],
      "metadata": {
        "colab": {
          "base_uri": "https://localhost:8080/"
        },
        "id": "Vk61SEMPIeGd",
        "outputId": "5520d27c-a241-4340-ddf9-c9db729b18c6"
      },
      "execution_count": null,
      "outputs": [
        {
          "output_type": "execute_result",
          "data": {
            "text/plain": [
              "140019868780992"
            ]
          },
          "metadata": {},
          "execution_count": 74
        }
      ]
    },
    {
      "cell_type": "markdown",
      "source": [
        "📌Ejercicio: Multiplicar a cada elemento PAR de la lista por 2\n",
        "\n",
        "o sea a cada \"elemento\" de \"listaNumeros\"  multiplicar por dos"
      ],
      "metadata": {
        "id": "JHCTpwYPuktb"
      }
    },
    {
      "cell_type": "code",
      "source": [
        "listaNueva=[elemento*2 for elemento in listaNumeros]\n",
        "listaNueva"
      ],
      "metadata": {
        "colab": {
          "base_uri": "https://localhost:8080/"
        },
        "id": "qs8k54uvIrXU",
        "outputId": "8eb5fd84-25ea-42a4-e21c-f8571a7c7c34"
      },
      "execution_count": null,
      "outputs": [
        {
          "output_type": "execute_result",
          "data": {
            "text/plain": [
              "[0, 4, 8, 12, 16]"
            ]
          },
          "metadata": {},
          "execution_count": 10
        }
      ]
    },
    {
      "cell_type": "code",
      "source": [
        "def multiplicarpordos(numero):\n",
        "  return numero*2"
      ],
      "metadata": {
        "id": "OnSUxsOIZ4ZF"
      },
      "execution_count": null,
      "outputs": []
    },
    {
      "cell_type": "code",
      "source": [
        "listaNueva = [multiplicarpordos(elemento) for elemento in listaNumeros]\n",
        "listaNueva"
      ],
      "metadata": {
        "colab": {
          "base_uri": "https://localhost:8080/"
        },
        "id": "MKNyvY7gaHKa",
        "outputId": "bf7c32c8-861d-44cf-dd22-bddc2ab4163e"
      },
      "execution_count": null,
      "outputs": [
        {
          "output_type": "execute_result",
          "data": {
            "text/plain": [
              "[0, 4, 8, 12, 16]"
            ]
          },
          "metadata": {},
          "execution_count": 11
        }
      ]
    },
    {
      "cell_type": "code",
      "source": [
        "listaPares=[]\n",
        "for numero in listaNumeros:\n",
        "  if numero%2==0:\n",
        "    listaPares.append(numero*2)\n",
        "  else:\n",
        "    listaPares.append(numero)"
      ],
      "metadata": {
        "id": "etgWc69ycKt-"
      },
      "execution_count": null,
      "outputs": []
    },
    {
      "cell_type": "code",
      "source": [
        "listaPares"
      ],
      "metadata": {
        "colab": {
          "base_uri": "https://localhost:8080/"
        },
        "id": "RHpbzaTodDqc",
        "outputId": "6f5e71cd-2b89-469f-8ca8-cab18fd8700e"
      },
      "execution_count": null,
      "outputs": [
        {
          "output_type": "execute_result",
          "data": {
            "text/plain": [
              "[0, 4, 8, 12, 16]"
            ]
          },
          "metadata": {},
          "execution_count": 13
        }
      ]
    },
    {
      "cell_type": "markdown",
      "source": [
        "📌 Ahora hacerlo con compresion de listas"
      ],
      "metadata": {
        "id": "CfDSrNiyuqZL"
      }
    },
    {
      "cell_type": "code",
      "source": [
        "[elemento for elemento in listaNumeros]"
      ],
      "metadata": {
        "colab": {
          "base_uri": "https://localhost:8080/"
        },
        "id": "WL0Qt1M4dKmp",
        "outputId": "3a7ed08e-0233-41a1-eed2-cd5891973d5f"
      },
      "execution_count": null,
      "outputs": [
        {
          "output_type": "execute_result",
          "data": {
            "text/plain": [
              "[0, 2, 4, 6, 8]"
            ]
          },
          "metadata": {},
          "execution_count": 14
        }
      ]
    },
    {
      "cell_type": "code",
      "source": [
        "[elemento*2 if elemento%2==0 else elemento for elemento in listaNumeros]"
      ],
      "metadata": {
        "colab": {
          "base_uri": "https://localhost:8080/"
        },
        "id": "BBZQPgJ0dV5h",
        "outputId": "8a72f1a5-599b-4718-cf56-6173de50baa3"
      },
      "execution_count": null,
      "outputs": [
        {
          "output_type": "execute_result",
          "data": {
            "text/plain": [
              "[0, 4, 8, 12, 16]"
            ]
          },
          "metadata": {},
          "execution_count": 15
        }
      ]
    },
    {
      "cell_type": "markdown",
      "source": [
        "📌Ejercicio: Multiplicar a cada elemento PAR de la lista por 2 y si es IMPAR dejarlo como 0"
      ],
      "metadata": {
        "id": "3ox38D0nut1X"
      }
    },
    {
      "cell_type": "code",
      "source": [
        "[elemento*2 if elemento%2==0 else elemento*0 for elemento in listaNumeros]"
      ],
      "metadata": {
        "colab": {
          "base_uri": "https://localhost:8080/"
        },
        "id": "OCee8l9Nd5UH",
        "outputId": "9dc6b666-8621-4757-8efa-acd4523fe25d"
      },
      "execution_count": null,
      "outputs": [
        {
          "output_type": "execute_result",
          "data": {
            "text/plain": [
              "[0, 4, 8, 12, 16]"
            ]
          },
          "metadata": {},
          "execution_count": 16
        }
      ]
    },
    {
      "cell_type": "markdown",
      "source": [
        "📌Ejercicio: dada una lista de numeros, quedarse solo con los numeros pares y luego sumarles 2 a los mayores de 5"
      ],
      "metadata": {
        "id": "Qt7-NaGFuyS-"
      }
    },
    {
      "cell_type": "code",
      "source": [
        "listaNumeros"
      ],
      "metadata": {
        "colab": {
          "base_uri": "https://localhost:8080/"
        },
        "id": "XcoWuDeoeiql",
        "outputId": "f6dceaf2-e66a-433d-a0d4-dd19f99551e0"
      },
      "execution_count": null,
      "outputs": [
        {
          "output_type": "execute_result",
          "data": {
            "text/plain": [
              "[0, 2, 4, 6, 8]"
            ]
          },
          "metadata": {},
          "execution_count": 26
        }
      ]
    },
    {
      "cell_type": "code",
      "source": [
        "[elemento+2 if elemento>5 else elemento for elemento in listaNumeros if elemento%2==0]"
      ],
      "metadata": {
        "colab": {
          "base_uri": "https://localhost:8080/"
        },
        "id": "v62JJIXGeGNW",
        "outputId": "0d830d16-f880-4265-f135-751571c45dc3"
      },
      "execution_count": null,
      "outputs": [
        {
          "output_type": "execute_result",
          "data": {
            "text/plain": [
              "[0, 2, 4, 8, 10]"
            ]
          },
          "metadata": {},
          "execution_count": 27
        }
      ]
    },
    {
      "cell_type": "markdown",
      "source": [
        "osea:primero sacamos todos los impares,nos queda [2,4,6,8] y despues a los elementos mayores que 5 le sumo 2."
      ],
      "metadata": {
        "id": "MweW_2H3fpHb"
      }
    },
    {
      "cell_type": "markdown",
      "source": [
        "# **Funciones lambda**\n",
        "\n",
        "Las expresiones lambda en Python son una forma corta de declarar funciones pequeñas y anónimas (no es necesario proporcionar un nombre para las funciones lambda)\n",
        "\n",
        "En otras palabras: **las funciones lambda son iguales que las funciones comunes solo que son mas cortitas de escribir y tienen un nombre que da mas miedo**\n",
        "\n",
        "**En la ENORME mayoria de casos se utilizan con estas funciones map(), filter(), apply(), applymap()**"
      ],
      "metadata": {
        "id": "NGS8LQ8Zu9nE"
      }
    },
    {
      "cell_type": "markdown",
      "source": [
        "Generar a partir de la funcion sumar 10 una funcion lambda"
      ],
      "metadata": {
        "id": "SJX8YF-mvDl7"
      }
    },
    {
      "cell_type": "code",
      "source": [
        "def suma10(numero):\n",
        "  return numero+10"
      ],
      "metadata": {
        "id": "LkJKPsvigZJw"
      },
      "execution_count": null,
      "outputs": []
    },
    {
      "cell_type": "code",
      "source": [
        "x=suma10(2)\n",
        "x"
      ],
      "metadata": {
        "colab": {
          "base_uri": "https://localhost:8080/"
        },
        "id": "wvnda-7Tg0O2",
        "outputId": "82e0e9cc-ff05-40f8-fd3d-1c810ade0862"
      },
      "execution_count": null,
      "outputs": [
        {
          "output_type": "execute_result",
          "data": {
            "text/plain": [
              "12"
            ]
          },
          "metadata": {},
          "execution_count": 29
        }
      ]
    },
    {
      "cell_type": "markdown",
      "source": [
        "ejemplo:"
      ],
      "metadata": {
        "id": "0D1_hlfjhDTt"
      }
    },
    {
      "cell_type": "code",
      "source": [
        "suma10=(lambda numero:numero+10)\n",
        "suma10"
      ],
      "metadata": {
        "colab": {
          "base_uri": "https://localhost:8080/"
        },
        "id": "2dbjQseGhEm-",
        "outputId": "150fc600-fb0b-4539-e5b4-35ccf271a6d7"
      },
      "execution_count": null,
      "outputs": [
        {
          "output_type": "execute_result",
          "data": {
            "text/plain": [
              "<function __main__.<lambda>(numero)>"
            ]
          },
          "metadata": {},
          "execution_count": 30
        }
      ]
    },
    {
      "cell_type": "markdown",
      "source": [
        "Una pequeña muestra de como funciona una lambda con la funcion map()\n",
        "\n",
        "map es una funcion que acepta dos parametros: un iterador (por ejemplo una lista) y una funcion\n",
        "\n",
        "Aplica la funcion a cada elemento del iterador y devuelve el resultado"
      ],
      "metadata": {
        "id": "vh5LAloKvK5D"
      }
    },
    {
      "cell_type": "markdown",
      "source": [
        "Dada una lista sumarle 10 a todos sus elementos"
      ],
      "metadata": {
        "id": "xPEJ23owvOPp"
      }
    },
    {
      "cell_type": "code",
      "source": [
        "numeros = [1,2,3,4,5,6]"
      ],
      "metadata": {
        "id": "P45SBGEuhayl"
      },
      "execution_count": null,
      "outputs": []
    },
    {
      "cell_type": "code",
      "source": [
        "numero_sumados=[]\n",
        "for numero in numeros:\n",
        "  numero_sumados.append(suma10(numero))\n",
        "numero_sumados"
      ],
      "metadata": {
        "colab": {
          "base_uri": "https://localhost:8080/"
        },
        "id": "2q3vSAXrhstr",
        "outputId": "3d5468da-d067-4462-96b7-79738282bc49"
      },
      "execution_count": null,
      "outputs": [
        {
          "output_type": "execute_result",
          "data": {
            "text/plain": [
              "[11, 12, 13, 14, 15, 16]"
            ]
          },
          "metadata": {},
          "execution_count": 32
        }
      ]
    },
    {
      "cell_type": "code",
      "source": [
        "numero_sumados=list(map((lambda numero: numero+10),numeros))\n"
      ],
      "metadata": {
        "id": "XN34zwIAiCt5"
      },
      "execution_count": null,
      "outputs": []
    },
    {
      "cell_type": "code",
      "source": [
        "numero_sumados"
      ],
      "metadata": {
        "colab": {
          "base_uri": "https://localhost:8080/"
        },
        "id": "wbe3x6iLi-Sx",
        "outputId": "07b168b6-53ab-4ee2-b023-5e3067be3ac6"
      },
      "execution_count": null,
      "outputs": [
        {
          "output_type": "execute_result",
          "data": {
            "text/plain": [
              "[11, 12, 13, 14, 15, 16]"
            ]
          },
          "metadata": {},
          "execution_count": 38
        }
      ]
    },
    {
      "cell_type": "markdown",
      "source": [
        "ahora:\n",
        "\n",
        "lambda es solo para usar con listas?? averiguar"
      ],
      "metadata": {
        "id": "7gvoiI56jIRI"
      }
    },
    {
      "cell_type": "code",
      "source": [
        "numero_sumados=list(map(suma10,numeros))\n"
      ],
      "metadata": {
        "id": "s9cP6ZcFk_ri"
      },
      "execution_count": null,
      "outputs": []
    },
    {
      "cell_type": "code",
      "source": [
        "numero_sumados"
      ],
      "metadata": {
        "colab": {
          "base_uri": "https://localhost:8080/"
        },
        "id": "JPAXv2U8lcC5",
        "outputId": "7542e02a-2959-4536-9b77-9d6b846118d8"
      },
      "execution_count": null,
      "outputs": [
        {
          "output_type": "execute_result",
          "data": {
            "text/plain": [
              "[11, 12, 13, 14, 15, 16]"
            ]
          },
          "metadata": {},
          "execution_count": 51
        }
      ]
    },
    {
      "cell_type": "markdown",
      "source": [
        "## Entonces para que me explicaste las lambdas si puedo usar las comunes y listo?\n",
        "\n",
        "Un error comun al utilizar funciones: no entender la diferencia entre un **return** y un **print**\n",
        "\n",
        "**Si no ponemos un return la funcion devuelve un objeto de tipo NoneType es decir un objeto que me dice que no devuelve NADA**\n",
        "\n",
        "las funciones que devuelven un print es desaprobado\n"
      ],
      "metadata": {
        "id": "RIFD1h0UvS9x"
      }
    },
    {
      "cell_type": "code",
      "source": [
        "def suma10(numero):\n",
        "  print(numero + 10)\n",
        "\n",
        "x = suma10(2)\n",
        "print(x)\n",
        "\n",
        "#siempre usar return"
      ],
      "metadata": {
        "id": "hbg_MNADvZai"
      },
      "execution_count": null,
      "outputs": []
    },
    {
      "cell_type": "markdown",
      "source": [
        "**Si pongo un print en mi funcion, la funcion hace que se imprima algo al usuario pero sigue devolviendo NADA**"
      ],
      "metadata": {
        "id": "xg5YNoRMva07"
      }
    },
    {
      "cell_type": "markdown",
      "source": [
        "Para que la funcion me devuelva algo es necesario que exista un **return** y es lo que generalmente se utiliza porque se espera tomar el resultado de esa funcion para seguir realizando el codigo"
      ],
      "metadata": {
        "id": "MmApw2wavtih"
      }
    },
    {
      "cell_type": "code",
      "source": [
        "import this"
      ],
      "metadata": {
        "colab": {
          "base_uri": "https://localhost:8080/"
        },
        "id": "csjW7HhU3adi",
        "outputId": "ea0cf4a7-2e99-4554-9d0e-2607ff1f207b"
      },
      "execution_count": 1,
      "outputs": [
        {
          "output_type": "stream",
          "name": "stdout",
          "text": [
            "The Zen of Python, by Tim Peters\n",
            "\n",
            "Beautiful is better than ugly.\n",
            "Explicit is better than implicit.\n",
            "Simple is better than complex.\n",
            "Complex is better than complicated.\n",
            "Flat is better than nested.\n",
            "Sparse is better than dense.\n",
            "Readability counts.\n",
            "Special cases aren't special enough to break the rules.\n",
            "Although practicality beats purity.\n",
            "Errors should never pass silently.\n",
            "Unless explicitly silenced.\n",
            "In the face of ambiguity, refuse the temptation to guess.\n",
            "There should be one-- and preferably only one --obvious way to do it.\n",
            "Although that way may not be obvious at first unless you're Dutch.\n",
            "Now is better than never.\n",
            "Although never is often better than *right* now.\n",
            "If the implementation is hard to explain, it's a bad idea.\n",
            "If the implementation is easy to explain, it may be a good idea.\n",
            "Namespaces are one honking great idea -- let's do more of those!\n"
          ]
        }
      ]
    },
    {
      "cell_type": "markdown",
      "source": [
        "# **Inmutabilidad vs Mutabilidad**"
      ],
      "metadata": {
        "id": "iw9e1dTevyYj"
      }
    },
    {
      "cell_type": "markdown",
      "source": [
        "\n",
        "Hablemos un poco de las variables. Cuando asignamos un valor a una variable, lo que realmente está ocurriendo es que se hace apuntar el nombre de la variable a una zona de memoria. Una variable es un nombre, no un lugar"
      ],
      "metadata": {
        "id": "qaoRHciNvzoh"
      }
    },
    {
      "cell_type": "markdown",
      "source": [
        "📌Ejercicio: Asignar a una variable 'a' un valor entero y determinar su direccion de memoria"
      ],
      "metadata": {
        "id": "d_ZIvSTPv9D5"
      }
    },
    {
      "cell_type": "code",
      "source": [
        "a=5\n",
        "id(a)"
      ],
      "metadata": {
        "colab": {
          "base_uri": "https://localhost:8080/"
        },
        "id": "IDkNIWtP3lhS",
        "outputId": "df7aed92-97fd-4556-f8d7-d6b34120fa82"
      },
      "execution_count": 4,
      "outputs": [
        {
          "output_type": "execute_result",
          "data": {
            "text/plain": [
              "11531040"
            ]
          },
          "metadata": {},
          "execution_count": 4
        }
      ]
    },
    {
      "cell_type": "markdown",
      "source": [
        "este valor que nos aparece representa el espacio de la memoria en el cual esta almacenado el 5.\"a\" apunta a un \"5\" que esta en ese espacio de memoria"
      ],
      "metadata": {
        "id": "vTVgovdR3utp"
      }
    },
    {
      "cell_type": "markdown",
      "source": [
        "📌Ejercicio: Asignar a una variable 'b' el valor de 'a'"
      ],
      "metadata": {
        "id": "EXLMh0ipwB34"
      }
    },
    {
      "cell_type": "code",
      "source": [
        "b=a\n",
        "id(b)"
      ],
      "metadata": {
        "colab": {
          "base_uri": "https://localhost:8080/"
        },
        "id": "KOE6Z6d46Vd5",
        "outputId": "b6894aa9-f608-46aa-dcf3-4ccda02f534c"
      },
      "execution_count": 5,
      "outputs": [
        {
          "output_type": "execute_result",
          "data": {
            "text/plain": [
              "11531040"
            ]
          },
          "metadata": {},
          "execution_count": 5
        }
      ]
    },
    {
      "cell_type": "markdown",
      "source": [
        "¿Que paso con las direcciones de memoria?¿Son iguales?¿Distintas?\n",
        "\n",
        "respuesta: son iguales"
      ],
      "metadata": {
        "id": "5aPTMyXLwG6Z"
      }
    },
    {
      "cell_type": "code",
      "source": [
        "print(id(a))\n",
        "print(id(b))"
      ],
      "metadata": {
        "colab": {
          "base_uri": "https://localhost:8080/"
        },
        "id": "Do0rrHxM6s8y",
        "outputId": "73ab450c-f39a-4dce-d60d-4c830c772567"
      },
      "execution_count": 6,
      "outputs": [
        {
          "output_type": "stream",
          "name": "stdout",
          "text": [
            "11531040\n",
            "11531040\n"
          ]
        }
      ]
    },
    {
      "cell_type": "markdown",
      "source": [
        "¿Y esto qué tiene que ver con la mutabilidad? Se dice que un entero es inmutable ya que a la hora de modificar su valor obtenemos una nueva zona de memoria, o lo que es lo mismo, un nuevo objeto:\n"
      ],
      "metadata": {
        "id": "H9pSGmH0wQeh"
      }
    },
    {
      "cell_type": "markdown",
      "source": [
        "📌Ejercicio: Modificar el valor de 'a' y determinar su direccion de memoria"
      ],
      "metadata": {
        "id": "amE8xBxAwVWx"
      }
    },
    {
      "cell_type": "code",
      "source": [
        "a=3\n",
        "id(a)"
      ],
      "metadata": {
        "colab": {
          "base_uri": "https://localhost:8080/"
        },
        "id": "EvhKSvwp7QdN",
        "outputId": "34bbeb0f-cf8a-49f4-e14a-05e282181bcc"
      },
      "execution_count": 7,
      "outputs": [
        {
          "output_type": "execute_result",
          "data": {
            "text/plain": [
              "11530976"
            ]
          },
          "metadata": {},
          "execution_count": 7
        }
      ]
    },
    {
      "cell_type": "markdown",
      "source": [
        "📌Ejercicio: Observar que paso con la variable 'b'\n",
        "\n",
        "no modificó su valor,a diferencia de \"a\""
      ],
      "metadata": {
        "id": "FOswfKRswZZP"
      }
    },
    {
      "cell_type": "code",
      "source": [
        "id(b)"
      ],
      "metadata": {
        "colab": {
          "base_uri": "https://localhost:8080/"
        },
        "id": "E68MA5OP7VxF",
        "outputId": "0f908aed-80b7-4e69-cc89-f9d374f168bf"
      },
      "execution_count": 8,
      "outputs": [
        {
          "output_type": "execute_result",
          "data": {
            "text/plain": [
              "11531040"
            ]
          },
          "metadata": {},
          "execution_count": 8
        }
      ]
    },
    {
      "cell_type": "markdown",
      "source": [
        "- Nota: ¿Que ocurre con el espacio en memoria que tenia el valor asigando 'a'? Las memorias tienen recolectores de basura que sacan estas espacios en memoria libres"
      ],
      "metadata": {
        "id": "6_-GEtEGwd7w"
      }
    },
    {
      "cell_type": "markdown",
      "source": [
        "entonces tenemos los tipos de datos:\n",
        "\n",
        "**mutables**:sonn os que pueden cambiar en el espacio de memoria(string,int,bool,\n",
        "\n",
        "\n",
        "**inmutables**:son lo que no cambian (diccionario,tuplas,listas)se tiene que conservar la cabecera"
      ],
      "metadata": {
        "id": "4-vBN--H74W0"
      }
    },
    {
      "cell_type": "markdown",
      "source": [
        "Si tratamos con listas, podemos ver que la modificación de alguno de sus valores no implica un cambio en la posición de memoria de la variable, por lo que se habla de objetos mutables"
      ],
      "metadata": {
        "id": "sJrOTmhswjnI"
      }
    },
    {
      "cell_type": "markdown",
      "source": [
        "📌Ejercicio: Generar una lista y determinar la dirección de memoria"
      ],
      "metadata": {
        "id": "-mpOz1cbwnjQ"
      }
    },
    {
      "cell_type": "code",
      "source": [
        "lista=list(range(10))\n",
        "lista"
      ],
      "metadata": {
        "colab": {
          "base_uri": "https://localhost:8080/"
        },
        "id": "cEgy67ZI9Eld",
        "outputId": "4cdfd3f9-5a91-4329-a185-3a6075a4163f"
      },
      "execution_count": 10,
      "outputs": [
        {
          "output_type": "execute_result",
          "data": {
            "text/plain": [
              "[0, 1, 2, 3, 4, 5, 6, 7, 8, 9]"
            ]
          },
          "metadata": {},
          "execution_count": 10
        }
      ]
    },
    {
      "cell_type": "code",
      "source": [
        "id(lista)"
      ],
      "metadata": {
        "colab": {
          "base_uri": "https://localhost:8080/"
        },
        "id": "FNtFJPHk9Z_O",
        "outputId": "61b4120e-ad6c-4f03-d17a-f510a542523c"
      },
      "execution_count": 11,
      "outputs": [
        {
          "output_type": "execute_result",
          "data": {
            "text/plain": [
              "139704983843008"
            ]
          },
          "metadata": {},
          "execution_count": 11
        }
      ]
    },
    {
      "cell_type": "code",
      "source": [
        "id(lista[3])"
      ],
      "metadata": {
        "colab": {
          "base_uri": "https://localhost:8080/"
        },
        "id": "zDMqRfjY9llX",
        "outputId": "eacc7623-2fa9-4030-9b28-6329f8ebdeb3"
      },
      "execution_count": 13,
      "outputs": [
        {
          "output_type": "execute_result",
          "data": {
            "text/plain": [
              "11530976"
            ]
          },
          "metadata": {},
          "execution_count": 13
        }
      ]
    },
    {
      "cell_type": "markdown",
      "source": [
        "📌Ejercicio: Generar otra lista y asignar los valores de la lista generada previamente"
      ],
      "metadata": {
        "id": "WvBW2lCqwqxQ"
      }
    },
    {
      "cell_type": "code",
      "source": [
        "listaNueva=lista"
      ],
      "metadata": {
        "id": "LGCwWnmY99GV"
      },
      "execution_count": 14,
      "outputs": []
    },
    {
      "cell_type": "code",
      "source": [
        "listaNueva"
      ],
      "metadata": {
        "colab": {
          "base_uri": "https://localhost:8080/"
        },
        "id": "3tjfJOU--Cdd",
        "outputId": "929c582d-c84a-41f1-cce7-e628858e5bdc"
      },
      "execution_count": 15,
      "outputs": [
        {
          "output_type": "execute_result",
          "data": {
            "text/plain": [
              "[0, 1, 2, 3, 4, 5, 6, 7, 8, 9]"
            ]
          },
          "metadata": {},
          "execution_count": 15
        }
      ]
    },
    {
      "cell_type": "markdown",
      "source": [
        "📌Ejercicio: Observar sus direcciones de memoria"
      ],
      "metadata": {
        "id": "G_VN1a0fwu0f"
      }
    },
    {
      "cell_type": "code",
      "source": [
        "id(listaNueva)"
      ],
      "metadata": {
        "colab": {
          "base_uri": "https://localhost:8080/"
        },
        "id": "2jvRl1-9-IVF",
        "outputId": "4231662b-bac9-4e7a-ed20-1c1727af886a"
      },
      "execution_count": 16,
      "outputs": [
        {
          "output_type": "execute_result",
          "data": {
            "text/plain": [
              "139704983843008"
            ]
          },
          "metadata": {},
          "execution_count": 16
        }
      ]
    },
    {
      "cell_type": "markdown",
      "source": [
        "📌Ejercicio: Modificar una lista y ver que comportamiento toma la otra"
      ],
      "metadata": {
        "id": "jA4njvjDwzyO"
      }
    },
    {
      "cell_type": "code",
      "source": [
        "lista.append('pedro')\n",
        "lista"
      ],
      "metadata": {
        "colab": {
          "base_uri": "https://localhost:8080/"
        },
        "id": "wQAATqN9-On-",
        "outputId": "f751ec9b-3d54-45fb-9b1b-a5e428fa214f"
      },
      "execution_count": 22,
      "outputs": [
        {
          "output_type": "execute_result",
          "data": {
            "text/plain": [
              "[0,\n",
              " 1,\n",
              " 2,\n",
              " 3,\n",
              " 4,\n",
              " 5,\n",
              " 6,\n",
              " 7,\n",
              " 8,\n",
              " 9,\n",
              " 'pedro',\n",
              " 'pedro',\n",
              " 'pedro',\n",
              " 'pedro',\n",
              " 'ivan',\n",
              " 'pedro']"
            ]
          },
          "metadata": {},
          "execution_count": 22
        }
      ]
    },
    {
      "cell_type": "code",
      "source": [
        "listaNueva.append('ivan')\n",
        "listaNueva"
      ],
      "metadata": {
        "colab": {
          "base_uri": "https://localhost:8080/"
        },
        "id": "CqLPgJto-uHs",
        "outputId": "f3e28645-f1ec-4518-ef7d-80ac91bef2e3"
      },
      "execution_count": 23,
      "outputs": [
        {
          "output_type": "execute_result",
          "data": {
            "text/plain": [
              "[0,\n",
              " 1,\n",
              " 2,\n",
              " 3,\n",
              " 4,\n",
              " 5,\n",
              " 6,\n",
              " 7,\n",
              " 8,\n",
              " 9,\n",
              " 'pedro',\n",
              " 'pedro',\n",
              " 'pedro',\n",
              " 'pedro',\n",
              " 'ivan',\n",
              " 'pedro',\n",
              " 'ivan']"
            ]
          },
          "metadata": {},
          "execution_count": 23
        }
      ]
    },
    {
      "cell_type": "code",
      "source": [
        "lista"
      ],
      "metadata": {
        "colab": {
          "base_uri": "https://localhost:8080/"
        },
        "id": "7FINEDwu-7dj",
        "outputId": "1cc92bc0-5b84-47bf-9d19-ceb143c87f47"
      },
      "execution_count": 24,
      "outputs": [
        {
          "output_type": "execute_result",
          "data": {
            "text/plain": [
              "[0,\n",
              " 1,\n",
              " 2,\n",
              " 3,\n",
              " 4,\n",
              " 5,\n",
              " 6,\n",
              " 7,\n",
              " 8,\n",
              " 9,\n",
              " 'pedro',\n",
              " 'pedro',\n",
              " 'pedro',\n",
              " 'pedro',\n",
              " 'ivan',\n",
              " 'pedro',\n",
              " 'ivan']"
            ]
          },
          "metadata": {},
          "execution_count": 24
        }
      ]
    },
    {
      "cell_type": "markdown",
      "source": [
        " - Nota: ¿Como escapar de este comportamiento? uso de ***copy()***\n",
        "\n",
        " con **copy** hago una copia de la lista"
      ],
      "metadata": {
        "id": "1c3GMuziw3M-"
      }
    },
    {
      "cell_type": "code",
      "source": [
        "listaNueva = lista.copy()"
      ],
      "metadata": {
        "id": "KVVWZybi_HYr"
      },
      "execution_count": 28,
      "outputs": []
    },
    {
      "cell_type": "code",
      "source": [
        "id(listaNueva)"
      ],
      "metadata": {
        "colab": {
          "base_uri": "https://localhost:8080/"
        },
        "id": "JJc8sR6Y_cpC",
        "outputId": "f205abe1-ed6c-4be0-dc16-74d2b437bdfc"
      },
      "execution_count": 29,
      "outputs": [
        {
          "output_type": "execute_result",
          "data": {
            "text/plain": [
              "139705142509376"
            ]
          },
          "metadata": {},
          "execution_count": 29
        }
      ]
    },
    {
      "cell_type": "code",
      "source": [
        "listaNueva.append('mariano')"
      ],
      "metadata": {
        "id": "nMBgkCpM_ch5"
      },
      "execution_count": 30,
      "outputs": []
    },
    {
      "cell_type": "markdown",
      "source": [
        "vemos que \"lista\" no tiene a mariano,pero listanueva si,porque es una copia"
      ],
      "metadata": {
        "id": "Po9B3QTk__7w"
      }
    },
    {
      "cell_type": "code",
      "source": [
        "listaNueva"
      ],
      "metadata": {
        "colab": {
          "base_uri": "https://localhost:8080/"
        },
        "id": "TNXHDWYC_y9B",
        "outputId": "77c00f41-464e-4876-9042-b185db2cf6d7"
      },
      "execution_count": 31,
      "outputs": [
        {
          "output_type": "execute_result",
          "data": {
            "text/plain": [
              "[0,\n",
              " 1,\n",
              " 2,\n",
              " 3,\n",
              " 4,\n",
              " 5,\n",
              " 6,\n",
              " 7,\n",
              " 8,\n",
              " 9,\n",
              " 'pedro',\n",
              " 'pedro',\n",
              " 'pedro',\n",
              " 'pedro',\n",
              " 'ivan',\n",
              " 'pedro',\n",
              " 'ivan',\n",
              " 'mariano']"
            ]
          },
          "metadata": {},
          "execution_count": 31
        }
      ]
    },
    {
      "cell_type": "code",
      "source": [
        "lista"
      ],
      "metadata": {
        "colab": {
          "base_uri": "https://localhost:8080/"
        },
        "id": "OP-VRHozAIJv",
        "outputId": "3eb7a2a1-6f53-46d3-f109-324fdf99daa9"
      },
      "execution_count": 32,
      "outputs": [
        {
          "output_type": "execute_result",
          "data": {
            "text/plain": [
              "[0,\n",
              " 1,\n",
              " 2,\n",
              " 3,\n",
              " 4,\n",
              " 5,\n",
              " 6,\n",
              " 7,\n",
              " 8,\n",
              " 9,\n",
              " 'pedro',\n",
              " 'pedro',\n",
              " 'pedro',\n",
              " 'pedro',\n",
              " 'ivan',\n",
              " 'pedro',\n",
              " 'ivan']"
            ]
          },
          "metadata": {},
          "execution_count": 32
        }
      ]
    },
    {
      "cell_type": "markdown",
      "source": [],
      "metadata": {
        "id": "C5qZw-b2_9nP"
      }
    }
  ]
}