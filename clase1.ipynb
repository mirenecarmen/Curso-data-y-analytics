{
  "nbformat": 4,
  "nbformat_minor": 0,
  "metadata": {
    "colab": {
      "provenance": [],
      "authorship_tag": "ABX9TyNPV3IhnQRt7lCWmyqk+Xo/",
      "include_colab_link": true
    },
    "kernelspec": {
      "name": "python3",
      "display_name": "Python 3"
    },
    "language_info": {
      "name": "python"
    }
  },
  "cells": [
    {
      "cell_type": "markdown",
      "metadata": {
        "id": "view-in-github",
        "colab_type": "text"
      },
      "source": [
        "<a href=\"https://colab.research.google.com/github/mirenecarmen/Curso-data-y-analytics/blob/main/clase1.ipynb\" target=\"_parent\"><img src=\"https://colab.research.google.com/assets/colab-badge.svg\" alt=\"Open In Colab\"/></a>"
      ]
    },
    {
      "cell_type": "code",
      "execution_count": null,
      "metadata": {
        "id": "vWImogNKsGfh"
      },
      "outputs": [],
      "source": []
    },
    {
      "cell_type": "markdown",
      "source": [
        "Python usos generales I\n",
        "\n",
        "\n",
        "*   introduccion a python\n",
        "*   uso de split,replace,capitalize,count\n",
        "*   condicion,ciclos\n",
        "*   introduccion a listas\n",
        "*   funciones\n",
        "\n",
        "\n",
        "\n"
      ],
      "metadata": {
        "id": "1VmUQYqCs14-"
      }
    },
    {
      "cell_type": "markdown",
      "source": [
        "VARIABLES ,TIPOS DE DATOS Y OPERACIONES\n"
      ],
      "metadata": {
        "id": "uImrhqt8vUxr"
      }
    },
    {
      "cell_type": "markdown",
      "source": [
        "Variables:\n",
        "\n",
        "\n",
        "*   un variable es un contenedor de informacion\n",
        "las variables sirven para retener informacion,y que no se pierda,referencia un espacio en memoria.\n",
        "cada variable debe llevar un nombre a traves del cual nos referimos a ella,los nombres deben ser unicos e irrepetibles.si el nombre de la variable se compone de muchas palabras,las mismas pueden ser separadas por un guion bajo (snake_case) o empezando cada palabra por mayuscula a partir de la segunda (camelCase) o a partir de la primera (PascalCase)\n",
        "\n"
      ],
      "metadata": {
        "id": "HV583R3vvdcG"
      }
    },
    {
      "cell_type": "markdown",
      "source": [
        "ejemplo:asignamos el valor 3 a una variable que creamos,de nombre x"
      ],
      "metadata": {
        "id": "R-AsHozvyC0n"
      }
    },
    {
      "cell_type": "code",
      "source": [
        "x=3\n",
        "x"
      ],
      "metadata": {
        "colab": {
          "base_uri": "https://localhost:8080/"
        },
        "id": "0INIfmxEyXWR",
        "outputId": "aae613a8-bdc7-4174-c9d1-73109ff439df"
      },
      "execution_count": null,
      "outputs": [
        {
          "output_type": "execute_result",
          "data": {
            "text/plain": [
              "3"
            ]
          },
          "metadata": {},
          "execution_count": 2
        }
      ]
    },
    {
      "cell_type": "markdown",
      "source": [
        "evaluamos e imprimimos en pantalla el resultado"
      ],
      "metadata": {
        "id": "6QbLrpmKyqnA"
      }
    },
    {
      "cell_type": "code",
      "source": [
        "print(x)"
      ],
      "metadata": {
        "colab": {
          "base_uri": "https://localhost:8080/"
        },
        "id": "zbjg9fBEy2Jf",
        "outputId": "53897c9b-b59a-4453-81ad-c56e1f60f082"
      },
      "execution_count": null,
      "outputs": [
        {
          "output_type": "stream",
          "name": "stdout",
          "text": [
            "3\n"
          ]
        }
      ]
    },
    {
      "cell_type": "markdown",
      "source": [
        "ejemplo:asignamos el valor 15,7 a una nueva variable de nombre y"
      ],
      "metadata": {
        "id": "Z_4EaKN3y7WW"
      }
    },
    {
      "cell_type": "code",
      "source": [
        "y=15.7\n",
        "y"
      ],
      "metadata": {
        "colab": {
          "base_uri": "https://localhost:8080/"
        },
        "id": "OCOQqXIwzG1e",
        "outputId": "a7d69fbe-0378-46f0-ffcc-f5340d36d86c"
      },
      "execution_count": null,
      "outputs": [
        {
          "output_type": "execute_result",
          "data": {
            "text/plain": [
              "15.7"
            ]
          },
          "metadata": {},
          "execution_count": 6
        }
      ]
    },
    {
      "cell_type": "markdown",
      "source": [
        "podemos definir una nueva variable como la suma de las dos anteriores"
      ],
      "metadata": {
        "id": "qb3h3PV7zTjN"
      }
    },
    {
      "cell_type": "code",
      "source": [
        "z=x+y\n",
        "z"
      ],
      "metadata": {
        "colab": {
          "base_uri": "https://localhost:8080/"
        },
        "id": "cP-WsYDFzeA0",
        "outputId": "c3828e59-642c-4a01-c374-8fd6d9c04880"
      },
      "execution_count": null,
      "outputs": [
        {
          "output_type": "execute_result",
          "data": {
            "text/plain": [
              "18.7"
            ]
          },
          "metadata": {},
          "execution_count": 7
        }
      ]
    },
    {
      "cell_type": "markdown",
      "source": [
        "pero en la variable podemos meter mas cosas ademas de numero,coomo por ej. un String"
      ],
      "metadata": {
        "id": "m4AVfG32zs0E"
      }
    },
    {
      "cell_type": "markdown",
      "source": [
        "ejemplo:asignar a una variable que se llame \"texto\" el valor de \"Hola\""
      ],
      "metadata": {
        "id": "SIi_5HfQz4vc"
      }
    },
    {
      "cell_type": "code",
      "source": [
        "texto='Hola'\n",
        "texto"
      ],
      "metadata": {
        "colab": {
          "base_uri": "https://localhost:8080/",
          "height": 35
        },
        "id": "WGutI5hM0BsT",
        "outputId": "0ca5aaab-9a2c-4138-e721-e73f8a7514a6"
      },
      "execution_count": null,
      "outputs": [
        {
          "output_type": "execute_result",
          "data": {
            "text/plain": [
              "'Hola'"
            ],
            "application/vnd.google.colaboratory.intrinsic+json": {
              "type": "string"
            }
          },
          "metadata": {},
          "execution_count": 9
        }
      ]
    },
    {
      "cell_type": "markdown",
      "source": [
        "ejecutar las siguientes celdas ¿cual es la diferencia?\n",
        "la diferencia es que en la primera solo estoy viendo el contenido de la variable\n",
        "en la segunda estoy imprimiendo la variable (con el print)"
      ],
      "metadata": {
        "id": "stfodSZI0RrD"
      }
    },
    {
      "cell_type": "code",
      "source": [
        "texto='Hola'\n",
        "texto"
      ],
      "metadata": {
        "colab": {
          "base_uri": "https://localhost:8080/",
          "height": 35
        },
        "id": "L_c74iFM1xJl",
        "outputId": "392933be-94c7-43f7-b7f3-e0b30448efc1"
      },
      "execution_count": null,
      "outputs": [
        {
          "output_type": "execute_result",
          "data": {
            "text/plain": [
              "'Hola'"
            ],
            "application/vnd.google.colaboratory.intrinsic+json": {
              "type": "string"
            }
          },
          "metadata": {},
          "execution_count": 10
        }
      ]
    },
    {
      "cell_type": "code",
      "source": [
        "print(texto)"
      ],
      "metadata": {
        "colab": {
          "base_uri": "https://localhost:8080/"
        },
        "id": "qcSqIUhU13Lu",
        "outputId": "0fdbecfb-3165-4c1a-f2ff-818ccdba4583"
      },
      "execution_count": null,
      "outputs": [
        {
          "output_type": "stream",
          "name": "stdout",
          "text": [
            "Hola\n"
          ]
        }
      ]
    },
    {
      "cell_type": "markdown",
      "source": [
        "si hago \"type\" puedo ver el tipo de variable,en el caso de \"texto\" es un STR mientras que el \"print(texto)\" es un nonetype ,o sea ningun tipo de dato"
      ],
      "metadata": {
        "id": "eFgcNGE918hj"
      }
    },
    {
      "cell_type": "code",
      "source": [
        "type(texto)"
      ],
      "metadata": {
        "colab": {
          "base_uri": "https://localhost:8080/"
        },
        "id": "qCGYn2m72f_W",
        "outputId": "ae6d524b-b38c-42d5-b80f-3c2573adfe6e"
      },
      "execution_count": null,
      "outputs": [
        {
          "output_type": "execute_result",
          "data": {
            "text/plain": [
              "str"
            ]
          },
          "metadata": {},
          "execution_count": 12
        }
      ]
    },
    {
      "cell_type": "code",
      "source": [
        "type(print(texto))"
      ],
      "metadata": {
        "colab": {
          "base_uri": "https://localhost:8080/"
        },
        "id": "_5899JN62nXE",
        "outputId": "7ffb62ad-2369-40ed-966c-2d73b1d43a1f"
      },
      "execution_count": null,
      "outputs": [
        {
          "output_type": "stream",
          "name": "stdout",
          "text": [
            "Hola\n"
          ]
        },
        {
          "output_type": "execute_result",
          "data": {
            "text/plain": [
              "NoneType"
            ]
          },
          "metadata": {},
          "execution_count": 13
        }
      ]
    },
    {
      "cell_type": "markdown",
      "source": [
        "puedo \"printear\" string/texto directamente sin usar variables "
      ],
      "metadata": {
        "id": "SpUsNWIy3JHB"
      }
    },
    {
      "cell_type": "code",
      "source": [
        "print('hola')"
      ],
      "metadata": {
        "colab": {
          "base_uri": "https://localhost:8080/"
        },
        "id": "TtOguCbL3Y85",
        "outputId": "27e8eebc-fc6e-46e8-f51d-bc270e532592"
      },
      "execution_count": null,
      "outputs": [
        {
          "output_type": "stream",
          "name": "stdout",
          "text": [
            "hola\n"
          ]
        }
      ]
    },
    {
      "cell_type": "code",
      "source": [
        "x+print('hola')"
      ],
      "metadata": {
        "colab": {
          "base_uri": "https://localhost:8080/",
          "height": 182
        },
        "id": "AfFtBuNB3kOB",
        "outputId": "2726cf53-2a32-4e7f-8da4-d02d5f8f3f67"
      },
      "execution_count": null,
      "outputs": [
        {
          "output_type": "stream",
          "name": "stdout",
          "text": [
            "hola\n"
          ]
        },
        {
          "output_type": "error",
          "ename": "TypeError",
          "evalue": "ignored",
          "traceback": [
            "\u001b[0;31m---------------------------------------------------------------------------\u001b[0m",
            "\u001b[0;31mTypeError\u001b[0m                                 Traceback (most recent call last)",
            "\u001b[0;32m<ipython-input-16-c7c04790b556>\u001b[0m in \u001b[0;36m<module>\u001b[0;34m\u001b[0m\n\u001b[0;32m----> 1\u001b[0;31m \u001b[0mx\u001b[0m\u001b[0;34m+\u001b[0m\u001b[0mprint\u001b[0m\u001b[0;34m(\u001b[0m\u001b[0;34m'hola'\u001b[0m\u001b[0;34m)\u001b[0m\u001b[0;34m\u001b[0m\u001b[0;34m\u001b[0m\u001b[0m\n\u001b[0m",
            "\u001b[0;31mTypeError\u001b[0m: unsupported operand type(s) for +: 'int' and 'NoneType'"
          ]
        }
      ]
    },
    {
      "cell_type": "markdown",
      "source": [
        "al correr esta ultima linea,deben ver un mensaje de error,éstos son importantes,en este caso,nos esta avisando que no puede imprimir la variable ,ya que la eliminamos y no esta definida."
      ],
      "metadata": {
        "id": "cpmw_DPD3uZo"
      }
    },
    {
      "cell_type": "code",
      "source": [
        "texto='juan'\n",
        "texto"
      ],
      "metadata": {
        "colab": {
          "base_uri": "https://localhost:8080/",
          "height": 35
        },
        "id": "VED9p6c18pUt",
        "outputId": "27f1a5ea-fa7a-4854-b94c-c2e86d8c746a"
      },
      "execution_count": null,
      "outputs": [
        {
          "output_type": "execute_result",
          "data": {
            "text/plain": [
              "'juan'"
            ],
            "application/vnd.google.colaboratory.intrinsic+json": {
              "type": "string"
            }
          },
          "metadata": {},
          "execution_count": 17
        }
      ]
    },
    {
      "cell_type": "code",
      "source": [
        "x=3\n",
        "x"
      ],
      "metadata": {
        "colab": {
          "base_uri": "https://localhost:8080/"
        },
        "id": "vVcLGs3g8vVi",
        "outputId": "4e71442c-b910-4c07-9539-04954be5f171"
      },
      "execution_count": null,
      "outputs": [
        {
          "output_type": "execute_result",
          "data": {
            "text/plain": [
              "3"
            ]
          },
          "metadata": {},
          "execution_count": 18
        }
      ]
    },
    {
      "cell_type": "code",
      "source": [
        "type(x)"
      ],
      "metadata": {
        "colab": {
          "base_uri": "https://localhost:8080/"
        },
        "id": "Gixc54Lj81xx",
        "outputId": "cfe9fa3b-4add-40dc-c8ab-64e870b42815"
      },
      "execution_count": null,
      "outputs": [
        {
          "output_type": "execute_result",
          "data": {
            "text/plain": [
              "int"
            ]
          },
          "metadata": {},
          "execution_count": 19
        }
      ]
    },
    {
      "cell_type": "code",
      "source": [
        "x+texto"
      ],
      "metadata": {
        "colab": {
          "base_uri": "https://localhost:8080/",
          "height": 165
        },
        "id": "lzgz_NH_9Bax",
        "outputId": "71d024cf-818e-43b4-f7bd-3fd4127c3747"
      },
      "execution_count": null,
      "outputs": [
        {
          "output_type": "error",
          "ename": "TypeError",
          "evalue": "ignored",
          "traceback": [
            "\u001b[0;31m---------------------------------------------------------------------------\u001b[0m",
            "\u001b[0;31mTypeError\u001b[0m                                 Traceback (most recent call last)",
            "\u001b[0;32m<ipython-input-20-f633fa58c1c1>\u001b[0m in \u001b[0;36m<module>\u001b[0;34m\u001b[0m\n\u001b[0;32m----> 1\u001b[0;31m \u001b[0mx\u001b[0m\u001b[0;34m+\u001b[0m\u001b[0mtexto\u001b[0m\u001b[0;34m\u001b[0m\u001b[0;34m\u001b[0m\u001b[0m\n\u001b[0m",
            "\u001b[0;31mTypeError\u001b[0m: unsupported operand type(s) for +: 'int' and 'str'"
          ]
        }
      ]
    },
    {
      "cell_type": "markdown",
      "source": [
        "en este caso nos devuelve error porque no podemos sumar nros mas textos"
      ],
      "metadata": {
        "id": "CLj05h-o9FbA"
      }
    },
    {
      "cell_type": "markdown",
      "source": [
        "y ahora probamos pasando el nro a texto (es \"forzar el tipo de variable\")covertir int en string o castear string en int???"
      ],
      "metadata": {
        "id": "fg0RbtXM9NtJ"
      }
    },
    {
      "cell_type": "code",
      "source": [
        "str(x)+texto"
      ],
      "metadata": {
        "colab": {
          "base_uri": "https://localhost:8080/",
          "height": 35
        },
        "id": "iyQVcPRk9Smx",
        "outputId": "eb1b1052-0d20-4802-c267-c1142ea4026d"
      },
      "execution_count": null,
      "outputs": [
        {
          "output_type": "execute_result",
          "data": {
            "text/plain": [
              "'3juan'"
            ],
            "application/vnd.google.colaboratory.intrinsic+json": {
              "type": "string"
            }
          },
          "metadata": {},
          "execution_count": 21
        }
      ]
    },
    {
      "cell_type": "code",
      "source": [
        "texto='123'\n",
        "print(x+int(texto))"
      ],
      "metadata": {
        "colab": {
          "base_uri": "https://localhost:8080/"
        },
        "id": "GNER-eOo-t2F",
        "outputId": "a0a88045-47cd-4cdf-8601-35391abf2007"
      },
      "execution_count": null,
      "outputs": [
        {
          "output_type": "stream",
          "name": "stdout",
          "text": [
            "126\n"
          ]
        }
      ]
    },
    {
      "cell_type": "markdown",
      "source": [
        "comentarios:los comentarios se crean con #"
      ],
      "metadata": {
        "id": "3Oqq-E-8-JA2"
      }
    },
    {
      "cell_type": "code",
      "source": [
        "#este codigo se encarga de ..bla bla"
      ],
      "metadata": {
        "id": "juelgXir-Tgt"
      },
      "execution_count": null,
      "outputs": []
    },
    {
      "cell_type": "code",
      "source": [
        "#los comentarios se abren con un #"
      ],
      "metadata": {
        "id": "uqwIQR7_-Z5n"
      },
      "execution_count": null,
      "outputs": []
    },
    {
      "cell_type": "markdown",
      "source": [
        "**tipos de Datos**\n",
        "\n",
        "\n",
        "*   booleano           bool\n",
        "*   entero             int\n",
        "*   flotante           float\n",
        "*   complejo           complex\n",
        "*   cadena             str\n",
        "*   tupla              tuple\n",
        "*   lista              list\n",
        "*   conjunto           set\n",
        "*   diccionario        dict\n",
        "\n",
        " cuando definimos una variable,dependiendo del contenido que le asignamos,la misma será de un determinado tipo.\n",
        " *el diccionario es el equivalente al json\n"
      ],
      "metadata": {
        "id": "eh5VfxKu_nuB"
      }
    },
    {
      "cell_type": "code",
      "source": [
        "x=4\n",
        "type (x)"
      ],
      "metadata": {
        "colab": {
          "base_uri": "https://localhost:8080/"
        },
        "id": "Hsxe_HauBBF_",
        "outputId": "ad5e25fe-d56b-4b03-c563-0f09f834b908"
      },
      "execution_count": null,
      "outputs": [
        {
          "output_type": "execute_result",
          "data": {
            "text/plain": [
              "int"
            ]
          },
          "metadata": {},
          "execution_count": 27
        }
      ]
    },
    {
      "cell_type": "code",
      "source": [
        "x=4.0\n",
        "type(x)"
      ],
      "metadata": {
        "colab": {
          "base_uri": "https://localhost:8080/"
        },
        "id": "VNkrdrsZBQ4U",
        "outputId": "256e2ad5-37c7-4d7e-e95f-039d0ad36f0b"
      },
      "execution_count": null,
      "outputs": [
        {
          "output_type": "execute_result",
          "data": {
            "text/plain": [
              "float"
            ]
          },
          "metadata": {},
          "execution_count": 28
        }
      ]
    },
    {
      "cell_type": "code",
      "source": [
        "x='texto'\n",
        "type(x)"
      ],
      "metadata": {
        "colab": {
          "base_uri": "https://localhost:8080/"
        },
        "id": "6zdjsS7aBGwV",
        "outputId": "0f2fcf4c-0b13-4615-95f5-8175400bc0d7"
      },
      "execution_count": null,
      "outputs": [
        {
          "output_type": "execute_result",
          "data": {
            "text/plain": [
              "str"
            ]
          },
          "metadata": {},
          "execution_count": 29
        }
      ]
    },
    {
      "cell_type": "code",
      "source": [
        "x=False\n",
        "type(x)"
      ],
      "metadata": {
        "colab": {
          "base_uri": "https://localhost:8080/"
        },
        "id": "ZakSaWG6Bkhl",
        "outputId": "ad80ebb4-231f-49cc-ddaa-510f3da88c12"
      },
      "execution_count": null,
      "outputs": [
        {
          "output_type": "execute_result",
          "data": {
            "text/plain": [
              "bool"
            ]
          },
          "metadata": {},
          "execution_count": 30
        }
      ]
    },
    {
      "cell_type": "code",
      "source": [
        "x=['pedro','pereyra']\n",
        "type(x)"
      ],
      "metadata": {
        "colab": {
          "base_uri": "https://localhost:8080/"
        },
        "id": "uMrmRrNsBsD0",
        "outputId": "51714d39-7615-42e6-e6cd-ec44ebdefb0a"
      },
      "execution_count": null,
      "outputs": [
        {
          "output_type": "execute_result",
          "data": {
            "text/plain": [
              "list"
            ]
          },
          "metadata": {},
          "execution_count": 31
        }
      ]
    },
    {
      "cell_type": "markdown",
      "source": [
        "podemos destacar,que usamos la misma variable en todos los casos,es decir,la sobreescribimos,es una facilidad de python que no necesitamos declararla ,inicializarla,solo tienen el mismo nombre,pero NO ESTAN EN EL MISMO ESPACIO DE MEMORIA."
      ],
      "metadata": {
        "id": "4zogoHziB6hC"
      }
    },
    {
      "cell_type": "markdown",
      "source": [
        "una situacion simple es cuando queremos introducir una comilla(simple o doble)dentro de una cadena"
      ],
      "metadata": {
        "id": "5mvBQyCECUcp"
      }
    },
    {
      "cell_type": "code",
      "source": [
        "'pepito expresó:  ⧵ '"
      ],
      "metadata": {
        "id": "joWtjNfsC0AA"
      },
      "execution_count": null,
      "outputs": []
    },
    {
      "cell_type": "markdown",
      "source": [],
      "metadata": {
        "id": "yr5qII9rBQuK"
      }
    }
  ]
}