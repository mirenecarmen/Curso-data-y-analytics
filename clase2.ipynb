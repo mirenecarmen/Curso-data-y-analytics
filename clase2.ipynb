{
  "nbformat": 4,
  "nbformat_minor": 0,
  "metadata": {
    "colab": {
      "provenance": [],
      "authorship_tag": "ABX9TyNwiVYrEP4wzi5ORZUrtkCb",
      "include_colab_link": true
    },
    "kernelspec": {
      "name": "python3",
      "display_name": "Python 3"
    },
    "language_info": {
      "name": "python"
    }
  },
  "cells": [
    {
      "cell_type": "markdown",
      "metadata": {
        "id": "view-in-github",
        "colab_type": "text"
      },
      "source": [
        "<a href=\"https://colab.research.google.com/github/mirenecarmen/Curso-data-y-analytics/blob/main/clase2.ipynb\" target=\"_parent\"><img src=\"https://colab.research.google.com/assets/colab-badge.svg\" alt=\"Open In Colab\"/></a>"
      ]
    },
    {
      "cell_type": "code",
      "execution_count": null,
      "metadata": {
        "id": "vWImogNKsGfh"
      },
      "outputs": [],
      "source": []
    },
    {
      "cell_type": "markdown",
      "source": [
        "Python usos generales I\n",
        "\n",
        "\n",
        "*   introduccion a python\n",
        "*   uso de split,replace,capitalize,count\n",
        "*   condicion,ciclos\n",
        "*   introduccion a listas\n",
        "*   funciones\n",
        "\n",
        "\n",
        "\n"
      ],
      "metadata": {
        "id": "1VmUQYqCs14-"
      }
    },
    {
      "cell_type": "markdown",
      "source": [
        "VARIABLES ,TIPOS DE DATOS Y OPERACIONES\n"
      ],
      "metadata": {
        "id": "uImrhqt8vUxr"
      }
    },
    {
      "cell_type": "markdown",
      "source": [
        "Variables:\n",
        "\n",
        "\n",
        "*   un variable es un contenedor de informacion\n",
        "las variables sirven para retener informacion,y que no se pierda,referencia un espacio en memoria.\n",
        "cada variable debe llevar un nombre a traves del cual nos referimos a ella,los nombres deben ser unicos e irrepetibles.si el nombre de la variable se compone de muchas palabras,las mismas pueden ser separadas por un guion bajo (snake_case) o empezando cada palabra por mayuscula a partir de la segunda (camelCase) o a partir de la primera (PascalCase)\n",
        "\n"
      ],
      "metadata": {
        "id": "HV583R3vvdcG"
      }
    },
    {
      "cell_type": "markdown",
      "source": [
        "ejemplo:asignamos el valor 3 a una variable que creamos,de nombre x"
      ],
      "metadata": {
        "id": "R-AsHozvyC0n"
      }
    },
    {
      "cell_type": "code",
      "source": [
        "x=3\n",
        "x"
      ],
      "metadata": {
        "colab": {
          "base_uri": "https://localhost:8080/"
        },
        "id": "0INIfmxEyXWR",
        "outputId": "aae613a8-bdc7-4174-c9d1-73109ff439df"
      },
      "execution_count": null,
      "outputs": [
        {
          "output_type": "execute_result",
          "data": {
            "text/plain": [
              "3"
            ]
          },
          "metadata": {},
          "execution_count": 2
        }
      ]
    },
    {
      "cell_type": "markdown",
      "source": [
        "evaluamos e imprimimos en pantalla el resultado"
      ],
      "metadata": {
        "id": "6QbLrpmKyqnA"
      }
    },
    {
      "cell_type": "code",
      "source": [
        "print(x)"
      ],
      "metadata": {
        "colab": {
          "base_uri": "https://localhost:8080/"
        },
        "id": "zbjg9fBEy2Jf",
        "outputId": "53897c9b-b59a-4453-81ad-c56e1f60f082"
      },
      "execution_count": null,
      "outputs": [
        {
          "output_type": "stream",
          "name": "stdout",
          "text": [
            "3\n"
          ]
        }
      ]
    },
    {
      "cell_type": "markdown",
      "source": [
        "ejemplo:asignamos el valor 15,7 a una nueva variable de nombre y"
      ],
      "metadata": {
        "id": "Z_4EaKN3y7WW"
      }
    },
    {
      "cell_type": "code",
      "source": [
        "y=15.7\n",
        "y"
      ],
      "metadata": {
        "colab": {
          "base_uri": "https://localhost:8080/"
        },
        "id": "OCOQqXIwzG1e",
        "outputId": "a7d69fbe-0378-46f0-ffcc-f5340d36d86c"
      },
      "execution_count": null,
      "outputs": [
        {
          "output_type": "execute_result",
          "data": {
            "text/plain": [
              "15.7"
            ]
          },
          "metadata": {},
          "execution_count": 6
        }
      ]
    },
    {
      "cell_type": "markdown",
      "source": [
        "podemos definir una nueva variable como la suma de las dos anteriores"
      ],
      "metadata": {
        "id": "qb3h3PV7zTjN"
      }
    },
    {
      "cell_type": "code",
      "source": [
        "z=x+y\n",
        "z"
      ],
      "metadata": {
        "colab": {
          "base_uri": "https://localhost:8080/"
        },
        "id": "cP-WsYDFzeA0",
        "outputId": "c3828e59-642c-4a01-c374-8fd6d9c04880"
      },
      "execution_count": null,
      "outputs": [
        {
          "output_type": "execute_result",
          "data": {
            "text/plain": [
              "18.7"
            ]
          },
          "metadata": {},
          "execution_count": 7
        }
      ]
    },
    {
      "cell_type": "markdown",
      "source": [
        "pero en la variable podemos meter mas cosas ademas de numero,coomo por ej. un String"
      ],
      "metadata": {
        "id": "m4AVfG32zs0E"
      }
    },
    {
      "cell_type": "markdown",
      "source": [
        "ejemplo:asignar a una variable que se llame \"texto\" el valor de \"Hola\""
      ],
      "metadata": {
        "id": "SIi_5HfQz4vc"
      }
    },
    {
      "cell_type": "code",
      "source": [
        "texto='Hola'\n",
        "texto"
      ],
      "metadata": {
        "colab": {
          "base_uri": "https://localhost:8080/",
          "height": 35
        },
        "id": "WGutI5hM0BsT",
        "outputId": "0ca5aaab-9a2c-4138-e721-e73f8a7514a6"
      },
      "execution_count": null,
      "outputs": [
        {
          "output_type": "execute_result",
          "data": {
            "text/plain": [
              "'Hola'"
            ],
            "application/vnd.google.colaboratory.intrinsic+json": {
              "type": "string"
            }
          },
          "metadata": {},
          "execution_count": 9
        }
      ]
    },
    {
      "cell_type": "markdown",
      "source": [
        "ejecutar las siguientes celdas ¿cual es la diferencia?\n",
        "la diferencia es que en la primera solo estoy viendo el contenido de la variable\n",
        "en la segunda estoy imprimiendo la variable (con el print)"
      ],
      "metadata": {
        "id": "stfodSZI0RrD"
      }
    },
    {
      "cell_type": "code",
      "source": [
        "texto='Hola'\n",
        "texto"
      ],
      "metadata": {
        "colab": {
          "base_uri": "https://localhost:8080/",
          "height": 35
        },
        "id": "L_c74iFM1xJl",
        "outputId": "392933be-94c7-43f7-b7f3-e0b30448efc1"
      },
      "execution_count": null,
      "outputs": [
        {
          "output_type": "execute_result",
          "data": {
            "text/plain": [
              "'Hola'"
            ],
            "application/vnd.google.colaboratory.intrinsic+json": {
              "type": "string"
            }
          },
          "metadata": {},
          "execution_count": 10
        }
      ]
    },
    {
      "cell_type": "code",
      "source": [
        "print(texto)"
      ],
      "metadata": {
        "colab": {
          "base_uri": "https://localhost:8080/"
        },
        "id": "qcSqIUhU13Lu",
        "outputId": "0fdbecfb-3165-4c1a-f2ff-818ccdba4583"
      },
      "execution_count": null,
      "outputs": [
        {
          "output_type": "stream",
          "name": "stdout",
          "text": [
            "Hola\n"
          ]
        }
      ]
    },
    {
      "cell_type": "markdown",
      "source": [
        "si hago \"type\" puedo ver el tipo de variable,en el caso de \"texto\" es un STR mientras que el \"print(texto)\" es un nonetype ,o sea ningun tipo de dato"
      ],
      "metadata": {
        "id": "eFgcNGE918hj"
      }
    },
    {
      "cell_type": "code",
      "source": [
        "type(texto)"
      ],
      "metadata": {
        "colab": {
          "base_uri": "https://localhost:8080/"
        },
        "id": "qCGYn2m72f_W",
        "outputId": "ae6d524b-b38c-42d5-b80f-3c2573adfe6e"
      },
      "execution_count": null,
      "outputs": [
        {
          "output_type": "execute_result",
          "data": {
            "text/plain": [
              "str"
            ]
          },
          "metadata": {},
          "execution_count": 12
        }
      ]
    },
    {
      "cell_type": "code",
      "source": [
        "type(print(texto))"
      ],
      "metadata": {
        "colab": {
          "base_uri": "https://localhost:8080/"
        },
        "id": "_5899JN62nXE",
        "outputId": "7ffb62ad-2369-40ed-966c-2d73b1d43a1f"
      },
      "execution_count": null,
      "outputs": [
        {
          "output_type": "stream",
          "name": "stdout",
          "text": [
            "Hola\n"
          ]
        },
        {
          "output_type": "execute_result",
          "data": {
            "text/plain": [
              "NoneType"
            ]
          },
          "metadata": {},
          "execution_count": 13
        }
      ]
    },
    {
      "cell_type": "markdown",
      "source": [
        "puedo \"printear\" string/texto directamente sin usar variables "
      ],
      "metadata": {
        "id": "SpUsNWIy3JHB"
      }
    },
    {
      "cell_type": "code",
      "source": [
        "print('hola')"
      ],
      "metadata": {
        "colab": {
          "base_uri": "https://localhost:8080/"
        },
        "id": "TtOguCbL3Y85",
        "outputId": "27e8eebc-fc6e-46e8-f51d-bc270e532592"
      },
      "execution_count": null,
      "outputs": [
        {
          "output_type": "stream",
          "name": "stdout",
          "text": [
            "hola\n"
          ]
        }
      ]
    },
    {
      "cell_type": "code",
      "source": [
        "x+print('hola')"
      ],
      "metadata": {
        "colab": {
          "base_uri": "https://localhost:8080/",
          "height": 182
        },
        "id": "AfFtBuNB3kOB",
        "outputId": "2726cf53-2a32-4e7f-8da4-d02d5f8f3f67"
      },
      "execution_count": null,
      "outputs": [
        {
          "output_type": "stream",
          "name": "stdout",
          "text": [
            "hola\n"
          ]
        },
        {
          "output_type": "error",
          "ename": "TypeError",
          "evalue": "ignored",
          "traceback": [
            "\u001b[0;31m---------------------------------------------------------------------------\u001b[0m",
            "\u001b[0;31mTypeError\u001b[0m                                 Traceback (most recent call last)",
            "\u001b[0;32m<ipython-input-16-c7c04790b556>\u001b[0m in \u001b[0;36m<module>\u001b[0;34m\u001b[0m\n\u001b[0;32m----> 1\u001b[0;31m \u001b[0mx\u001b[0m\u001b[0;34m+\u001b[0m\u001b[0mprint\u001b[0m\u001b[0;34m(\u001b[0m\u001b[0;34m'hola'\u001b[0m\u001b[0;34m)\u001b[0m\u001b[0;34m\u001b[0m\u001b[0;34m\u001b[0m\u001b[0m\n\u001b[0m",
            "\u001b[0;31mTypeError\u001b[0m: unsupported operand type(s) for +: 'int' and 'NoneType'"
          ]
        }
      ]
    },
    {
      "cell_type": "markdown",
      "source": [
        "al correr esta ultima linea,deben ver un mensaje de error,éstos son importantes,en este caso,nos esta avisando que no puede imprimir la variable ,ya que la eliminamos y no esta definida."
      ],
      "metadata": {
        "id": "cpmw_DPD3uZo"
      }
    },
    {
      "cell_type": "code",
      "source": [
        "texto='juan'\n",
        "texto"
      ],
      "metadata": {
        "colab": {
          "base_uri": "https://localhost:8080/",
          "height": 35
        },
        "id": "VED9p6c18pUt",
        "outputId": "27f1a5ea-fa7a-4854-b94c-c2e86d8c746a"
      },
      "execution_count": null,
      "outputs": [
        {
          "output_type": "execute_result",
          "data": {
            "text/plain": [
              "'juan'"
            ],
            "application/vnd.google.colaboratory.intrinsic+json": {
              "type": "string"
            }
          },
          "metadata": {},
          "execution_count": 17
        }
      ]
    },
    {
      "cell_type": "code",
      "source": [
        "x=3\n",
        "x"
      ],
      "metadata": {
        "colab": {
          "base_uri": "https://localhost:8080/"
        },
        "id": "vVcLGs3g8vVi",
        "outputId": "4e71442c-b910-4c07-9539-04954be5f171"
      },
      "execution_count": null,
      "outputs": [
        {
          "output_type": "execute_result",
          "data": {
            "text/plain": [
              "3"
            ]
          },
          "metadata": {},
          "execution_count": 18
        }
      ]
    },
    {
      "cell_type": "code",
      "source": [
        "type(x)"
      ],
      "metadata": {
        "colab": {
          "base_uri": "https://localhost:8080/"
        },
        "id": "Gixc54Lj81xx",
        "outputId": "cfe9fa3b-4add-40dc-c8ab-64e870b42815"
      },
      "execution_count": null,
      "outputs": [
        {
          "output_type": "execute_result",
          "data": {
            "text/plain": [
              "int"
            ]
          },
          "metadata": {},
          "execution_count": 19
        }
      ]
    },
    {
      "cell_type": "code",
      "source": [
        "x+texto"
      ],
      "metadata": {
        "colab": {
          "base_uri": "https://localhost:8080/",
          "height": 165
        },
        "id": "lzgz_NH_9Bax",
        "outputId": "71d024cf-818e-43b4-f7bd-3fd4127c3747"
      },
      "execution_count": null,
      "outputs": [
        {
          "output_type": "error",
          "ename": "TypeError",
          "evalue": "ignored",
          "traceback": [
            "\u001b[0;31m---------------------------------------------------------------------------\u001b[0m",
            "\u001b[0;31mTypeError\u001b[0m                                 Traceback (most recent call last)",
            "\u001b[0;32m<ipython-input-20-f633fa58c1c1>\u001b[0m in \u001b[0;36m<module>\u001b[0;34m\u001b[0m\n\u001b[0;32m----> 1\u001b[0;31m \u001b[0mx\u001b[0m\u001b[0;34m+\u001b[0m\u001b[0mtexto\u001b[0m\u001b[0;34m\u001b[0m\u001b[0;34m\u001b[0m\u001b[0m\n\u001b[0m",
            "\u001b[0;31mTypeError\u001b[0m: unsupported operand type(s) for +: 'int' and 'str'"
          ]
        }
      ]
    },
    {
      "cell_type": "markdown",
      "source": [
        "en este caso nos devuelve error porque no podemos sumar nros mas textos"
      ],
      "metadata": {
        "id": "CLj05h-o9FbA"
      }
    },
    {
      "cell_type": "markdown",
      "source": [
        "y ahora probamos pasando el nro a texto (es \"forzar el tipo de variable\")covertir int en string o castear string en int???"
      ],
      "metadata": {
        "id": "fg0RbtXM9NtJ"
      }
    },
    {
      "cell_type": "code",
      "source": [
        "str(x)+texto"
      ],
      "metadata": {
        "colab": {
          "base_uri": "https://localhost:8080/",
          "height": 35
        },
        "id": "iyQVcPRk9Smx",
        "outputId": "eb1b1052-0d20-4802-c267-c1142ea4026d"
      },
      "execution_count": null,
      "outputs": [
        {
          "output_type": "execute_result",
          "data": {
            "text/plain": [
              "'3juan'"
            ],
            "application/vnd.google.colaboratory.intrinsic+json": {
              "type": "string"
            }
          },
          "metadata": {},
          "execution_count": 21
        }
      ]
    },
    {
      "cell_type": "code",
      "source": [
        "texto='123'\n",
        "print(x+int(texto))"
      ],
      "metadata": {
        "colab": {
          "base_uri": "https://localhost:8080/"
        },
        "id": "GNER-eOo-t2F",
        "outputId": "a0a88045-47cd-4cdf-8601-35391abf2007"
      },
      "execution_count": null,
      "outputs": [
        {
          "output_type": "stream",
          "name": "stdout",
          "text": [
            "126\n"
          ]
        }
      ]
    },
    {
      "cell_type": "markdown",
      "source": [
        "comentarios:los comentarios se crean con #"
      ],
      "metadata": {
        "id": "3Oqq-E-8-JA2"
      }
    },
    {
      "cell_type": "code",
      "source": [
        "#este codigo se encarga de ..bla bla"
      ],
      "metadata": {
        "id": "juelgXir-Tgt"
      },
      "execution_count": null,
      "outputs": []
    },
    {
      "cell_type": "code",
      "source": [
        "#los comentarios se abren con un #"
      ],
      "metadata": {
        "id": "uqwIQR7_-Z5n"
      },
      "execution_count": null,
      "outputs": []
    },
    {
      "cell_type": "markdown",
      "source": [
        "**tipos de Datos**\n",
        "\n",
        "\n",
        "*   booleano           bool\n",
        "*   entero             int\n",
        "*   flotante           float\n",
        "*   complejo           complex\n",
        "*   cadena             str\n",
        "*   tupla              tuple\n",
        "*   lista              list\n",
        "*   conjunto           set\n",
        "*   diccionario        dict\n",
        "\n",
        " cuando definimos una variable,dependiendo del contenido que le asignamos,la misma será de un determinado tipo.\n",
        " *el diccionario es el equivalente al json\n"
      ],
      "metadata": {
        "id": "eh5VfxKu_nuB"
      }
    },
    {
      "cell_type": "code",
      "source": [
        "x=4\n",
        "type (x)"
      ],
      "metadata": {
        "colab": {
          "base_uri": "https://localhost:8080/"
        },
        "id": "Hsxe_HauBBF_",
        "outputId": "ad5e25fe-d56b-4b03-c563-0f09f834b908"
      },
      "execution_count": null,
      "outputs": [
        {
          "output_type": "execute_result",
          "data": {
            "text/plain": [
              "int"
            ]
          },
          "metadata": {},
          "execution_count": 27
        }
      ]
    },
    {
      "cell_type": "code",
      "source": [
        "x=4.0\n",
        "type(x)"
      ],
      "metadata": {
        "colab": {
          "base_uri": "https://localhost:8080/"
        },
        "id": "VNkrdrsZBQ4U",
        "outputId": "256e2ad5-37c7-4d7e-e95f-039d0ad36f0b"
      },
      "execution_count": null,
      "outputs": [
        {
          "output_type": "execute_result",
          "data": {
            "text/plain": [
              "float"
            ]
          },
          "metadata": {},
          "execution_count": 28
        }
      ]
    },
    {
      "cell_type": "code",
      "source": [
        "x='texto'\n",
        "type(x)"
      ],
      "metadata": {
        "colab": {
          "base_uri": "https://localhost:8080/"
        },
        "id": "6zdjsS7aBGwV",
        "outputId": "0f2fcf4c-0b13-4615-95f5-8175400bc0d7"
      },
      "execution_count": null,
      "outputs": [
        {
          "output_type": "execute_result",
          "data": {
            "text/plain": [
              "str"
            ]
          },
          "metadata": {},
          "execution_count": 29
        }
      ]
    },
    {
      "cell_type": "code",
      "source": [
        "x=False\n",
        "type(x)"
      ],
      "metadata": {
        "colab": {
          "base_uri": "https://localhost:8080/"
        },
        "id": "ZakSaWG6Bkhl",
        "outputId": "ad80ebb4-231f-49cc-ddaa-510f3da88c12"
      },
      "execution_count": null,
      "outputs": [
        {
          "output_type": "execute_result",
          "data": {
            "text/plain": [
              "bool"
            ]
          },
          "metadata": {},
          "execution_count": 30
        }
      ]
    },
    {
      "cell_type": "code",
      "source": [
        "x=['pedro','pereyra']\n",
        "type(x)"
      ],
      "metadata": {
        "colab": {
          "base_uri": "https://localhost:8080/"
        },
        "id": "uMrmRrNsBsD0",
        "outputId": "51714d39-7615-42e6-e6cd-ec44ebdefb0a"
      },
      "execution_count": null,
      "outputs": [
        {
          "output_type": "execute_result",
          "data": {
            "text/plain": [
              "list"
            ]
          },
          "metadata": {},
          "execution_count": 31
        }
      ]
    },
    {
      "cell_type": "markdown",
      "source": [
        "podemos destacar,que usamos la misma variable en todos los casos,es decir,la sobreescribimos,es una facilidad de python que no necesitamos declararla ,inicializarla,solo tienen el mismo nombre,pero NO ESTAN EN EL MISMO ESPACIO DE MEMORIA."
      ],
      "metadata": {
        "id": "4zogoHziB6hC"
      }
    },
    {
      "cell_type": "markdown",
      "source": [
        "una situacion simple es cuando queremos introducir una comilla(simple o doble)dentro de una cadena"
      ],
      "metadata": {
        "id": "5mvBQyCECUcp"
      }
    },
    {
      "cell_type": "code",
      "source": [
        "\"Pepito expresó: \\\"a la marcha!!\\\"\""
      ],
      "metadata": {
        "id": "joWtjNfsC0AA",
        "colab": {
          "base_uri": "https://localhost:8080/",
          "height": 35
        },
        "outputId": "813374ea-20b9-4477-8b16-cef9beaa4c66"
      },
      "execution_count": null,
      "outputs": [
        {
          "output_type": "execute_result",
          "data": {
            "text/plain": [
              "'Pepito expresó: \"a la marcha!!\"'"
            ],
            "application/vnd.google.colaboratory.intrinsic+json": {
              "type": "string"
            }
          },
          "metadata": {},
          "execution_count": 1
        }
      ]
    },
    {
      "cell_type": "markdown",
      "source": [
        "####⚠️ **Nota**: a pesar de ser un número, la variable 'o' es de tipo `string`. Esto se debe a que lo pusimos entre comillas."
      ],
      "metadata": {
        "id": "yr5qII9rBQuK"
      }
    },
    {
      "cell_type": "markdown",
      "source": [
        "Operaciones 🧮"
      ],
      "metadata": {
        "id": "dW9cy3CvQYr8"
      }
    },
    {
      "cell_type": "markdown",
      "source": [
        "💡 Operaciones con números"
      ],
      "metadata": {
        "id": "lxb_kLZ1QgHL"
      }
    },
    {
      "cell_type": "markdown",
      "source": [
        "suma"
      ],
      "metadata": {
        "id": "GfNy6zxmUmbo"
      }
    },
    {
      "cell_type": "code",
      "source": [
        "a=10\n",
        "b=15\n",
        "a+b"
      ],
      "metadata": {
        "colab": {
          "base_uri": "https://localhost:8080/"
        },
        "id": "LHdo-uMFUnmR",
        "outputId": "a00b0f16-2835-4882-fbb5-959606734d96"
      },
      "execution_count": null,
      "outputs": [
        {
          "output_type": "execute_result",
          "data": {
            "text/plain": [
              "25"
            ]
          },
          "metadata": {},
          "execution_count": 2
        }
      ]
    },
    {
      "cell_type": "markdown",
      "source": [
        "resta"
      ],
      "metadata": {
        "id": "q6tq0V49UylO"
      }
    },
    {
      "cell_type": "code",
      "source": [
        "a=15\n",
        "b=10\n",
        "a-b"
      ],
      "metadata": {
        "colab": {
          "base_uri": "https://localhost:8080/"
        },
        "id": "wNOcWQpPUzge",
        "outputId": "f350949f-1041-47fc-f3ed-dd0662cc9321"
      },
      "execution_count": null,
      "outputs": [
        {
          "output_type": "execute_result",
          "data": {
            "text/plain": [
              "5"
            ]
          },
          "metadata": {},
          "execution_count": 3
        }
      ]
    },
    {
      "cell_type": "markdown",
      "source": [
        "multiplicacion"
      ],
      "metadata": {
        "id": "q0kPeLUHU4K2"
      }
    },
    {
      "cell_type": "code",
      "source": [
        "a=5\n",
        "b=10\n",
        "a*b"
      ],
      "metadata": {
        "colab": {
          "base_uri": "https://localhost:8080/"
        },
        "id": "PbpvC9dqU7Sd",
        "outputId": "11aba152-0967-4248-dc21-492b68736bd0"
      },
      "execution_count": null,
      "outputs": [
        {
          "output_type": "execute_result",
          "data": {
            "text/plain": [
              "50"
            ]
          },
          "metadata": {},
          "execution_count": 4
        }
      ]
    },
    {
      "cell_type": "code",
      "source": [
        "b/a"
      ],
      "metadata": {
        "colab": {
          "base_uri": "https://localhost:8080/"
        },
        "id": "4mmfAZnyVXHe",
        "outputId": "de126f6d-caa6-454c-8ab0-c183b51c1370"
      },
      "execution_count": null,
      "outputs": [
        {
          "output_type": "execute_result",
          "data": {
            "text/plain": [
              "0.25"
            ]
          },
          "metadata": {},
          "execution_count": 7
        }
      ]
    },
    {
      "cell_type": "code",
      "source": [
        "a%b"
      ],
      "metadata": {
        "colab": {
          "base_uri": "https://localhost:8080/"
        },
        "id": "ocGNLymlVi3l",
        "outputId": "0f063760-ae4e-4d60-a5e5-d68fbcf39b7d"
      },
      "execution_count": null,
      "outputs": [
        {
          "output_type": "execute_result",
          "data": {
            "text/plain": [
              "0"
            ]
          },
          "metadata": {},
          "execution_count": 8
        }
      ]
    },
    {
      "cell_type": "markdown",
      "source": [
        "💡 Podemos ver que la division entre dos numeros de tipo int nos dios un float\n",
        "                             \n",
        "💡 Podemos realizar operaciones entre distintos tipos de variables: entre un int y un float"
      ],
      "metadata": {
        "id": "1CYtkzcJVzgz"
      }
    },
    {
      "cell_type": "code",
      "source": [
        "6+6.33"
      ],
      "metadata": {
        "colab": {
          "base_uri": "https://localhost:8080/"
        },
        "id": "0MhWnEU8WexZ",
        "outputId": "73cfebd8-0f74-47e7-fc8b-66e67caf1b15"
      },
      "execution_count": null,
      "outputs": [
        {
          "output_type": "execute_result",
          "data": {
            "text/plain": [
              "12.33"
            ]
          },
          "metadata": {},
          "execution_count": 9
        }
      ]
    },
    {
      "cell_type": "markdown",
      "source": [
        "⚡ ¿De qué tipo es la variable resultante?"
      ],
      "metadata": {
        "id": "rdvFV1XNWwXE"
      }
    },
    {
      "cell_type": "code",
      "source": [
        "type(6+6.33)"
      ],
      "metadata": {
        "colab": {
          "base_uri": "https://localhost:8080/"
        },
        "id": "XEM9pQ9XWxmJ",
        "outputId": "dff0725e-c5c3-4b1c-80b2-81b0b2d7cab8"
      },
      "execution_count": null,
      "outputs": [
        {
          "output_type": "execute_result",
          "data": {
            "text/plain": [
              "float"
            ]
          },
          "metadata": {},
          "execution_count": 10
        }
      ]
    },
    {
      "cell_type": "markdown",
      "source": [
        "⚡Ejercicio: Calcular el porcentaje que representa el valor 17 sobre un total de 54 y guardarlo en una variable llamada porcentaje. Al finalizar, mostrar el resultado de un forma comprensible."
      ],
      "metadata": {
        "id": "KYSF-bx5W6KQ"
      }
    },
    {
      "cell_type": "markdown",
      "source": [
        "solucion1"
      ],
      "metadata": {
        "id": "ZCQga0nxX5EV"
      }
    },
    {
      "cell_type": "code",
      "source": [
        "porcentaje=17*100/54\n",
        "porcentaje"
      ],
      "metadata": {
        "colab": {
          "base_uri": "https://localhost:8080/"
        },
        "id": "QLmwNENSW9pI",
        "outputId": "fccbc26b-eb73-440b-9f43-c9e2e4cadf6f"
      },
      "execution_count": null,
      "outputs": [
        {
          "output_type": "execute_result",
          "data": {
            "text/plain": [
              "31.48148148148148"
            ]
          },
          "metadata": {},
          "execution_count": 12
        }
      ]
    },
    {
      "cell_type": "markdown",
      "source": [
        "solucion2"
      ],
      "metadata": {
        "id": "Tg9tajl9X8td"
      }
    },
    {
      "cell_type": "code",
      "source": [
        "porcentaje=(17/54)*100\n",
        "print(porcentaje,'%')"
      ],
      "metadata": {
        "colab": {
          "base_uri": "https://localhost:8080/"
        },
        "id": "WjH1aMuQX-Zd",
        "outputId": "8908b618-5c37-4d6d-e927-a123227e3c4a"
      },
      "execution_count": null,
      "outputs": [
        {
          "output_type": "stream",
          "name": "stdout",
          "text": [
            "31.48148148148148 %\n"
          ]
        }
      ]
    },
    {
      "cell_type": "markdown",
      "source": [
        "solucion3"
      ],
      "metadata": {
        "id": "dJ9HINQIYhQ7"
      }
    },
    {
      "cell_type": "code",
      "source": [
        "a=19\n",
        "b=54"
      ],
      "metadata": {
        "id": "qndqXu2kYi1p"
      },
      "execution_count": null,
      "outputs": []
    },
    {
      "cell_type": "code",
      "source": [
        "porcentaje=(a/b)*100\n",
        "porcentaje"
      ],
      "metadata": {
        "colab": {
          "base_uri": "https://localhost:8080/"
        },
        "id": "IkGVxXbuZAo5",
        "outputId": "ed2e4fa6-1864-4434-d091-8886718600d2"
      },
      "execution_count": null,
      "outputs": [
        {
          "output_type": "execute_result",
          "data": {
            "text/plain": [
              "35.18518518518518"
            ]
          },
          "metadata": {},
          "execution_count": 26
        }
      ]
    },
    {
      "cell_type": "code",
      "source": [
        "print('el pocentaje que representa [a] sobre [b] es (round(porcentaje,2f)%')"
      ],
      "metadata": {
        "colab": {
          "base_uri": "https://localhost:8080/"
        },
        "id": "t3ZpW74XZQKS",
        "outputId": "825a8ba5-557e-4caf-b178-8c709ca5403e"
      },
      "execution_count": null,
      "outputs": [
        {
          "output_type": "stream",
          "name": "stdout",
          "text": [
            "el pocentaje que representa [a] sobre [b] es (round(porcentaje,2f)%\n"
          ]
        }
      ]
    },
    {
      "cell_type": "markdown",
      "source": [
        "Metodos sobre cadenas"
      ],
      "metadata": {
        "id": "t5c4korWcVR4"
      }
    },
    {
      "cell_type": "markdown",
      "source": [
        "💡Los metodos son acciones que se le aplican a un OBJETO"
      ],
      "metadata": {
        "id": "ANkQ-Q4wcYjg"
      }
    },
    {
      "cell_type": "code",
      "source": [
        "apellido='pereyra'"
      ],
      "metadata": {
        "id": "rRi2Rs-Vc1LO"
      },
      "execution_count": null,
      "outputs": []
    },
    {
      "cell_type": "markdown",
      "source": [
        "💡Uso de split(parametro/s). Se utiliza para separar una cadena, según un separador. Si no se pasa el parámetro te toma el separador como espacios en blanco."
      ],
      "metadata": {
        "id": "004-wFHiccXY"
      }
    },
    {
      "cell_type": "code",
      "source": [
        "apellido.split(sep='y')"
      ],
      "metadata": {
        "colab": {
          "base_uri": "https://localhost:8080/"
        },
        "id": "yyg9sOpJdMFP",
        "outputId": "4cb13e55-5056-4dc9-9dc6-409f045928a6"
      },
      "execution_count": null,
      "outputs": [
        {
          "output_type": "execute_result",
          "data": {
            "text/plain": [
              "['pere', 'ra']"
            ]
          },
          "metadata": {},
          "execution_count": 33
        }
      ]
    },
    {
      "cell_type": "code",
      "source": [
        "apellido.split(sep='e')"
      ],
      "metadata": {
        "colab": {
          "base_uri": "https://localhost:8080/"
        },
        "id": "xAAYjnPhiJDH",
        "outputId": "030ac155-4c74-4a76-c704-d17ed087e077"
      },
      "execution_count": null,
      "outputs": [
        {
          "output_type": "execute_result",
          "data": {
            "text/plain": [
              "['p', 'r', 'yra']"
            ]
          },
          "metadata": {},
          "execution_count": 34
        }
      ]
    },
    {
      "cell_type": "code",
      "source": [
        "apellido.split()"
      ],
      "metadata": {
        "colab": {
          "base_uri": "https://localhost:8080/"
        },
        "id": "5z5aE0VDiQfX",
        "outputId": "623dcea1-aaed-48fa-cc77-000ccd8073c2"
      },
      "execution_count": null,
      "outputs": [
        {
          "output_type": "execute_result",
          "data": {
            "text/plain": [
              "['pereyra']"
            ]
          },
          "metadata": {},
          "execution_count": 35
        }
      ]
    },
    {
      "cell_type": "code",
      "source": [],
      "metadata": {
        "id": "VCpko12vjyfU"
      },
      "execution_count": null,
      "outputs": []
    },
    {
      "cell_type": "markdown",
      "source": [
        "tarea:asignar a una variables los distintos tipos de ingesta que conocen,con libre eleccion de separador.\n",
        "Se busca separar los distintos tipos de ingesta\n",
        "Como resultado obtenemos una *lista*"
      ],
      "metadata": {
        "id": "MxcRnFwzixUW"
      }
    },
    {
      "cell_type": "code",
      "source": [
        "tiposDeIngesta='batch-streaming'\n",
        "listaIngesta=tiposDeIngesta.split('-')\n",
        "listaIngesta"
      ],
      "metadata": {
        "colab": {
          "base_uri": "https://localhost:8080/"
        },
        "id": "UzQcGZ5-jCDP",
        "outputId": "de2e8640-45b3-434c-dec2-e0f4bd6980c3"
      },
      "execution_count": null,
      "outputs": [
        {
          "output_type": "execute_result",
          "data": {
            "text/plain": [
              "['batch', 'streaming']"
            ]
          },
          "metadata": {},
          "execution_count": 42
        }
      ]
    },
    {
      "cell_type": "code",
      "source": [
        "print(listaIngesta)"
      ],
      "metadata": {
        "colab": {
          "base_uri": "https://localhost:8080/"
        },
        "id": "D4FzJUrAkgJS",
        "outputId": "f95a22ed-6320-4b11-edd6-629b4a1d52cf"
      },
      "execution_count": null,
      "outputs": [
        {
          "output_type": "stream",
          "name": "stdout",
          "text": [
            "['batch', 'streaming']\n"
          ]
        }
      ]
    },
    {
      "cell_type": "code",
      "source": [
        "type(tiposDeIngesta.split('-'))"
      ],
      "metadata": {
        "colab": {
          "base_uri": "https://localhost:8080/"
        },
        "id": "uoBREGSMj4GK",
        "outputId": "9ef7771f-6882-490d-c709-b9d43da9f028"
      },
      "execution_count": null,
      "outputs": [
        {
          "output_type": "execute_result",
          "data": {
            "text/plain": [
              "list"
            ]
          },
          "metadata": {},
          "execution_count": 41
        }
      ]
    },
    {
      "cell_type": "markdown",
      "source": [
        "💡Ademas split(parametro/s) utiliza un parametro adicinal: **maxsplit**, que determina el limite de particiones\n",
        "\n",
        "Cada vez que encuentre una \"t\" va a separar ,y separaá un maximo de ..segun el nro que ponga en \"maxsplit\""
      ],
      "metadata": {
        "id": "gezbdX_EcezR"
      }
    },
    {
      "cell_type": "code",
      "source": [
        "tiposDeIngesta.split(sep='t',maxsplit=2)"
      ],
      "metadata": {
        "colab": {
          "base_uri": "https://localhost:8080/"
        },
        "id": "Bwsnc1EckvjY",
        "outputId": "d7e74ab9-6454-41f2-f304-cafea554bc61"
      },
      "execution_count": null,
      "outputs": [
        {
          "output_type": "execute_result",
          "data": {
            "text/plain": [
              "['ba', 'ch-s', 'reaming']"
            ]
          },
          "metadata": {},
          "execution_count": 50
        }
      ]
    },
    {
      "cell_type": "markdown",
      "source": [
        "tarea:asignar a una variable los dintintos tipos de datos que existe,con libre eleccion de separador.\n",
        "\n",
        "se debe utilizar parametro adicional 'maxsplit'\n",
        "Como resultado vemos que se generan 4 strings"
      ],
      "metadata": {
        "id": "Sebn_3X_mIvF"
      }
    },
    {
      "cell_type": "code",
      "source": [
        "tiposDeDatos='int,float,string,lista,tupla,diccionario,none,booleano'"
      ],
      "metadata": {
        "id": "lgkMOIqcmgST"
      },
      "execution_count": null,
      "outputs": []
    },
    {
      "cell_type": "code",
      "source": [
        "tiposDeDatos.split(sep='t',maxsplit=3)"
      ],
      "metadata": {
        "colab": {
          "base_uri": "https://localhost:8080/"
        },
        "id": "vZkxcs11m6mc",
        "outputId": "45bc3dbc-6cad-4352-a225-c083ab84e3c6"
      },
      "execution_count": null,
      "outputs": [
        {
          "output_type": "execute_result",
          "data": {
            "text/plain": [
              "['in', ',floa', ',s', 'ring,lista,tupla,diccionario,none,booleano']"
            ]
          },
          "metadata": {},
          "execution_count": 55
        }
      ]
    },
    {
      "cell_type": "markdown",
      "source": [
        "💡Uso de replace(parametro/s). Se utiliza para reemplazar una segmento o toda una cadena respecto de otra\n",
        "\n",
        "en este ejemplo reemplazo las \",\" por \";\""
      ],
      "metadata": {
        "id": "3-pDuEMuokaC"
      }
    },
    {
      "cell_type": "code",
      "source": [
        "tiposDeDatos.replace(',',';')"
      ],
      "metadata": {
        "colab": {
          "base_uri": "https://localhost:8080/",
          "height": 35
        },
        "id": "8MnkPymZowXN",
        "outputId": "aaac9a4f-0a8f-4257-b774-adc99377891d"
      },
      "execution_count": null,
      "outputs": [
        {
          "output_type": "execute_result",
          "data": {
            "text/plain": [
              "'int;float;string;lista;tupla;diccionario;none;booleano'"
            ],
            "application/vnd.google.colaboratory.intrinsic+json": {
              "type": "string"
            }
          },
          "metadata": {},
          "execution_count": 56
        }
      ]
    },
    {
      "cell_type": "markdown",
      "source": [
        "ahora quiero que en lugar de \"int\" diga \"enteros\""
      ],
      "metadata": {
        "id": "3bPHBo5uo_Br"
      }
    },
    {
      "cell_type": "code",
      "source": [
        "tiposDeDatos.replace('int','enteros')"
      ],
      "metadata": {
        "colab": {
          "base_uri": "https://localhost:8080/",
          "height": 35
        },
        "id": "A7Og0oBIpDvj",
        "outputId": "4a14e768-406c-49ec-ab16-ad415a9f1daf"
      },
      "execution_count": null,
      "outputs": [
        {
          "output_type": "execute_result",
          "data": {
            "text/plain": [
              "'enteros,float,string,lista,tupla,diccionario,none,booleano'"
            ],
            "application/vnd.google.colaboratory.intrinsic+json": {
              "type": "string"
            }
          },
          "metadata": {},
          "execution_count": 57
        }
      ]
    },
    {
      "cell_type": "markdown",
      "source": [
        "observamos que el tipo de dato no cambió (porque no lo guardamos en ninguna variable aun)"
      ],
      "metadata": {
        "id": "OZ-QYJ4EpaL9"
      }
    },
    {
      "cell_type": "markdown",
      "source": [
        "Tarea:guardar en una variable las formas de ingesta que conocen y reemplazar la primera vocal que aparezca por \"AZ\""
      ],
      "metadata": {
        "id": "T9YNzrQZpjyy"
      }
    },
    {
      "cell_type": "code",
      "source": [
        "formasDeIngesta='Full,Incrementalu'"
      ],
      "metadata": {
        "id": "NYV_ZOrTqAyI"
      },
      "execution_count": null,
      "outputs": []
    },
    {
      "cell_type": "code",
      "source": [
        "formasDeIngesta.replace('u','AZ',2)"
      ],
      "metadata": {
        "colab": {
          "base_uri": "https://localhost:8080/",
          "height": 35
        },
        "id": "HrICz3djqM8Q",
        "outputId": "34a504e1-3371-477e-9fc2-8b369426c12b"
      },
      "execution_count": null,
      "outputs": [
        {
          "output_type": "execute_result",
          "data": {
            "text/plain": [
              "'FAZll,IncrementalAZ'"
            ],
            "application/vnd.google.colaboratory.intrinsic+json": {
              "type": "string"
            }
          },
          "metadata": {},
          "execution_count": 63
        }
      ]
    },
    {
      "cell_type": "markdown",
      "source": [
        "💡Uso de capitalize(). Se utliza para poner primer carácter en mayúsculas y el resto en minúsculas"
      ],
      "metadata": {
        "id": "5I263nV8clZ8"
      }
    },
    {
      "cell_type": "code",
      "source": [
        "nombre='pEdro PeReyra'"
      ],
      "metadata": {
        "id": "VSzOsqOkrAIO"
      },
      "execution_count": null,
      "outputs": []
    },
    {
      "cell_type": "code",
      "source": [
        "nombre.capitalize()"
      ],
      "metadata": {
        "colab": {
          "base_uri": "https://localhost:8080/",
          "height": 35
        },
        "id": "OX1Jvc_7rMcO",
        "outputId": "db4e40be-f096-4cf0-ff9d-208e3b873d91"
      },
      "execution_count": null,
      "outputs": [
        {
          "output_type": "execute_result",
          "data": {
            "text/plain": [
              "'Pedro pereyra'"
            ],
            "application/vnd.google.colaboratory.intrinsic+json": {
              "type": "string"
            }
          },
          "metadata": {},
          "execution_count": 66
        }
      ]
    },
    {
      "cell_type": "markdown",
      "source": [
        "tarea:guardar en una variable una zona del datalake y transformar su primer caracter en mayuscula."
      ],
      "metadata": {
        "id": "-JrjrkOrrnMq"
      }
    },
    {
      "cell_type": "code",
      "source": [
        "zonaDataLake='bronzeSilverGold'\n",
        "zonaDataLake.capitalize()"
      ],
      "metadata": {
        "colab": {
          "base_uri": "https://localhost:8080/",
          "height": 35
        },
        "id": "awp0urqyrxtr",
        "outputId": "44791085-5a92-4603-aeba-664573c3456d"
      },
      "execution_count": null,
      "outputs": [
        {
          "output_type": "execute_result",
          "data": {
            "text/plain": [
              "'Bronzesilvergold'"
            ],
            "application/vnd.google.colaboratory.intrinsic+json": {
              "type": "string"
            }
          },
          "metadata": {},
          "execution_count": 69
        }
      ]
    },
    {
      "cell_type": "markdown",
      "source": [
        "💡Uso de count(parametro/s). Se utliza para encontrar las ocurrencias de cierto caracter en una cadena"
      ],
      "metadata": {
        "id": "RmYX9Yiycn_J"
      }
    },
    {
      "cell_type": "code",
      "source": [
        "zonaDataLake.count('e')"
      ],
      "metadata": {
        "colab": {
          "base_uri": "https://localhost:8080/"
        },
        "id": "A8KIkGcNsYyT",
        "outputId": "2b6edb4f-dcfa-4f60-9a80-45a68d212119"
      },
      "execution_count": null,
      "outputs": [
        {
          "output_type": "execute_result",
          "data": {
            "text/plain": [
              "2"
            ]
          },
          "metadata": {},
          "execution_count": 70
        }
      ]
    },
    {
      "cell_type": "markdown",
      "source": [
        "tarea:guardar en una variable algun rol que conozcan en el mundo de los datos y contar la cantidad de ocurrencias de la vocal \"a\""
      ],
      "metadata": {
        "id": "e2zUkYV0syUA"
      }
    },
    {
      "cell_type": "code",
      "source": [
        "rolesMundoDatos='ingenieroDeDatos,Arquitecto de datos, Analista de Datos,Cientifico de Datos'\n",
        "rolesMundoDatos.count('a')"
      ],
      "metadata": {
        "colab": {
          "base_uri": "https://localhost:8080/"
        },
        "id": "jRtBPU6qtDWI",
        "outputId": "1aee9569-d911-4c20-8110-53c784069202"
      },
      "execution_count": null,
      "outputs": [
        {
          "output_type": "execute_result",
          "data": {
            "text/plain": [
              "6"
            ]
          },
          "metadata": {},
          "execution_count": 72
        }
      ]
    },
    {
      "cell_type": "code",
      "source": [
        "rolesMundoDatos"
      ],
      "metadata": {
        "colab": {
          "base_uri": "https://localhost:8080/",
          "height": 35
        },
        "id": "bkSkQBUouBaX",
        "outputId": "b9a58366-2785-487f-f150-a0fdde4b139e"
      },
      "execution_count": null,
      "outputs": [
        {
          "output_type": "execute_result",
          "data": {
            "text/plain": [
              "'ingenieroDeDatos,Arquitecto de datos, Analista de Datos,Cientifico de Datos'"
            ],
            "application/vnd.google.colaboratory.intrinsic+json": {
              "type": "string"
            }
          },
          "metadata": {},
          "execution_count": 73
        }
      ]
    },
    {
      "cell_type": "code",
      "source": [
        "rolesMundoDatos.lower()"
      ],
      "metadata": {
        "colab": {
          "base_uri": "https://localhost:8080/",
          "height": 35
        },
        "id": "0c2ElBo0uIsm",
        "outputId": "88f5e6a0-3fbd-4003-a181-8760c7587034"
      },
      "execution_count": null,
      "outputs": [
        {
          "output_type": "execute_result",
          "data": {
            "text/plain": [
              "'ingenierodedatos,arquitecto de datos, analista de datos,cientifico de datos'"
            ],
            "application/vnd.google.colaboratory.intrinsic+json": {
              "type": "string"
            }
          },
          "metadata": {},
          "execution_count": 74
        }
      ]
    },
    {
      "cell_type": "code",
      "source": [
        "rolesMundoDatos.lower().count('a')"
      ],
      "metadata": {
        "colab": {
          "base_uri": "https://localhost:8080/"
        },
        "id": "gsuA7nGxuPC9",
        "outputId": "8f3eedb0-465e-42fa-bced-9d9db34b5d21"
      },
      "execution_count": null,
      "outputs": [
        {
          "output_type": "execute_result",
          "data": {
            "text/plain": [
              "8"
            ]
          },
          "metadata": {},
          "execution_count": 76
        }
      ]
    },
    {
      "cell_type": "markdown",
      "source": [
        "obsetvamos que cuenta solo las minusculas"
      ],
      "metadata": {
        "id": "nITupGAdtsWs"
      }
    },
    {
      "cell_type": "markdown",
      "source": [
        "💡Uso de **dir(texto)** (ES UNA FUNCION). muestra todos los metodos que se le pueden aplicar a una cadena como a una lista.\n",
        "\n",
        "Muestra todos los metodos asociados aun tipo de dato."
      ],
      "metadata": {
        "id": "HaePAbe-u2T7"
      }
    },
    {
      "cell_type": "code",
      "source": [
        "dir(roles)"
      ],
      "metadata": {
        "colab": {
          "base_uri": "https://localhost:8080/",
          "height": 165
        },
        "id": "yqnu6juevaZ6",
        "outputId": "9b6ee5fd-71d2-456c-dc9f-abe2732cbf6d"
      },
      "execution_count": null,
      "outputs": [
        {
          "output_type": "error",
          "ename": "NameError",
          "evalue": "ignored",
          "traceback": [
            "\u001b[0;31m---------------------------------------------------------------------------\u001b[0m",
            "\u001b[0;31mNameError\u001b[0m                                 Traceback (most recent call last)",
            "\u001b[0;32m<ipython-input-78-6d5f6bab2231>\u001b[0m in \u001b[0;36m<module>\u001b[0;34m\u001b[0m\n\u001b[0;32m----> 1\u001b[0;31m \u001b[0mdir\u001b[0m\u001b[0;34m(\u001b[0m\u001b[0mroles\u001b[0m\u001b[0;34m)\u001b[0m\u001b[0;34m\u001b[0m\u001b[0;34m\u001b[0m\u001b[0m\n\u001b[0m",
            "\u001b[0;31mNameError\u001b[0m: name 'roles' is not defined"
          ]
        }
      ]
    },
    {
      "cell_type": "markdown",
      "source": [
        "* Operadores de Comparación y Operadores Lógicos *\n",
        "\n",
        "💡Un operador de comparación se emplea para comparar. Devuelve un valor booleano (true o false) dependiendo del resultado de la comparacion\n"
      ],
      "metadata": {
        "id": "wrrm8clGvxMH"
      }
    },
    {
      "cell_type": "markdown",
      "source": [
        "igual que =="
      ],
      "metadata": {
        "id": "sxn963OvwZO2"
      }
    },
    {
      "cell_type": "code",
      "source": [
        "3==3"
      ],
      "metadata": {
        "colab": {
          "base_uri": "https://localhost:8080/"
        },
        "id": "J0hqGvSHw4Vt",
        "outputId": "0f870f9f-a15a-47d2-dffc-b488ab05866b"
      },
      "execution_count": null,
      "outputs": [
        {
          "output_type": "execute_result",
          "data": {
            "text/plain": [
              "True"
            ]
          },
          "metadata": {},
          "execution_count": 79
        }
      ]
    },
    {
      "cell_type": "code",
      "source": [
        "3=='3'"
      ],
      "metadata": {
        "colab": {
          "base_uri": "https://localhost:8080/"
        },
        "id": "DhqiJwMIw8NE",
        "outputId": "e9354f58-e0aa-4e3c-e858-4c2cdf1d1902"
      },
      "execution_count": null,
      "outputs": [
        {
          "output_type": "execute_result",
          "data": {
            "text/plain": [
              "False"
            ]
          },
          "metadata": {},
          "execution_count": 80
        }
      ]
    },
    {
      "cell_type": "code",
      "source": [
        "'hola'=='Hola'"
      ],
      "metadata": {
        "colab": {
          "base_uri": "https://localhost:8080/"
        },
        "id": "U_amgoW8xX5r",
        "outputId": "f6467326-d4a1-4c07-e46e-0860fef635d3"
      },
      "execution_count": null,
      "outputs": [
        {
          "output_type": "execute_result",
          "data": {
            "text/plain": [
              "False"
            ]
          },
          "metadata": {},
          "execution_count": 82
        }
      ]
    },
    {
      "cell_type": "code",
      "source": [
        "type(3>4)"
      ],
      "metadata": {
        "colab": {
          "base_uri": "https://localhost:8080/"
        },
        "id": "nH9jc9cQxi7y",
        "outputId": "be626b24-0fb1-4edf-ee09-7f9cfa92879e"
      },
      "execution_count": null,
      "outputs": [
        {
          "output_type": "execute_result",
          "data": {
            "text/plain": [
              "bool"
            ]
          },
          "metadata": {},
          "execution_count": 83
        }
      ]
    },
    {
      "cell_type": "markdown",
      "source": [
        "es distinto de !="
      ],
      "metadata": {
        "id": "C2DLSzJoweM_"
      }
    },
    {
      "cell_type": "code",
      "source": [
        "3!='3'"
      ],
      "metadata": {
        "colab": {
          "base_uri": "https://localhost:8080/"
        },
        "id": "pAPM5OZ3xLmN",
        "outputId": "1e1ef3a4-1867-48a8-cdf7-78f2b960814c"
      },
      "execution_count": null,
      "outputs": [
        {
          "output_type": "execute_result",
          "data": {
            "text/plain": [
              "True"
            ]
          },
          "metadata": {},
          "execution_count": 81
        }
      ]
    },
    {
      "cell_type": "markdown",
      "source": [
        "es menor que <"
      ],
      "metadata": {
        "id": "eBjXCBffwj8l"
      }
    },
    {
      "cell_type": "markdown",
      "source": [
        "es menor o igual que <="
      ],
      "metadata": {
        "id": "mhAMHHVbwnF2"
      }
    },
    {
      "cell_type": "markdown",
      "source": [
        "es mayor que >"
      ],
      "metadata": {
        "id": "aP5Wzlrsws7s"
      }
    },
    {
      "cell_type": "markdown",
      "source": [
        "es mayor o igual que >="
      ],
      "metadata": {
        "id": "wKaUDO3AwvBW"
      }
    },
    {
      "cell_type": "markdown",
      "source": [
        "💡 Operadores lógicos\n",
        "- **and** ( y ): compara dos valores, y si ambos son verdaderos, devuelve True.\n",
        "- **or** ( ó ): si al comparar dos valores y uno de los dos se cumple, devuelve True. Solo devuelve falso cuando los dos valores no se cumplen.\n",
        "- **not** ( no ): invierte el valor de una variable, dando el valor contrario al de la variable evaluada."
      ],
      "metadata": {
        "id": "QXJUHnhyxuAR"
      }
    },
    {
      "cell_type": "code",
      "source": [
        "3==3 and 4==4"
      ],
      "metadata": {
        "colab": {
          "base_uri": "https://localhost:8080/"
        },
        "id": "I30HjO3xyG-R",
        "outputId": "b3ee5d28-d897-4679-87a5-d59790013ded"
      },
      "execution_count": null,
      "outputs": [
        {
          "output_type": "execute_result",
          "data": {
            "text/plain": [
              "True"
            ]
          },
          "metadata": {},
          "execution_count": 84
        }
      ]
    },
    {
      "cell_type": "code",
      "source": [
        "3==3 or 4==5"
      ],
      "metadata": {
        "colab": {
          "base_uri": "https://localhost:8080/"
        },
        "id": "UAvuCHl-yZCY",
        "outputId": "904c6dc8-af4b-4d7d-d510-c4bbf94f24ac"
      },
      "execution_count": null,
      "outputs": [
        {
          "output_type": "execute_result",
          "data": {
            "text/plain": [
              "True"
            ]
          },
          "metadata": {},
          "execution_count": 85
        }
      ]
    },
    {
      "cell_type": "code",
      "source": [
        "not True"
      ],
      "metadata": {
        "colab": {
          "base_uri": "https://localhost:8080/"
        },
        "id": "_cPudLlpygi_",
        "outputId": "e507c6f7-0674-4f3b-b6b7-12a04f09f2a1"
      },
      "execution_count": null,
      "outputs": [
        {
          "output_type": "execute_result",
          "data": {
            "text/plain": [
              "False"
            ]
          },
          "metadata": {},
          "execution_count": 86
        }
      ]
    },
    {
      "cell_type": "code",
      "source": [
        "not (3==3 and 4==4)"
      ],
      "metadata": {
        "colab": {
          "base_uri": "https://localhost:8080/"
        },
        "id": "d_3gUIcLy0Rw",
        "outputId": "8c526804-a4c1-4ba2-e0df-9a7b6d3f19e8"
      },
      "execution_count": null,
      "outputs": [
        {
          "output_type": "execute_result",
          "data": {
            "text/plain": [
              "False"
            ]
          },
          "metadata": {},
          "execution_count": 87
        }
      ]
    },
    {
      "cell_type": "markdown",
      "source": [
        "💡Condicional **IF**\n",
        "\n",
        "El if se utiliza para ejecutar un bloque de código si, y solo si, se cumple una determinada condición. Por tanto, if es usado para la toma de decisiones.\n",
        "\n",
        "Una de las características más distintivas de Python es el uso de indentaciones para marcar bloques de código."
      ],
      "metadata": {
        "id": "Cz6osd8zy-cf"
      }
    },
    {
      "cell_type": "code",
      "source": [
        "if condicion\n",
        " #mi codigo si la condicion es true\n",
        " elif condicion2:\n",
        "  #mi codigo si la condicion2 es True\n",
        "  else\n",
        "  #mi codigo si las otras condiciones no se activan"
      ],
      "metadata": {
        "id": "zrvl3vWjzy2D"
      },
      "execution_count": null,
      "outputs": []
    },
    {
      "cell_type": "code",
      "source": [
        "if 3==3:\n",
        "print('hola')"
      ],
      "metadata": {
        "colab": {
          "base_uri": "https://localhost:8080/",
          "height": 130
        },
        "id": "Qddtop230b16",
        "outputId": "314ed179-b4e9-4759-db09-9f48c0cdf565"
      },
      "execution_count": null,
      "outputs": [
        {
          "output_type": "error",
          "ename": "IndentationError",
          "evalue": "ignored",
          "traceback": [
            "\u001b[0;36m  File \u001b[0;32m\"<ipython-input-88-a36193172f11>\"\u001b[0;36m, line \u001b[0;32m2\u001b[0m\n\u001b[0;31m    print('hola')\u001b[0m\n\u001b[0m    ^\u001b[0m\n\u001b[0;31mIndentationError\u001b[0m\u001b[0;31m:\u001b[0m expected an indented block\n"
          ]
        }
      ]
    },
    {
      "cell_type": "code",
      "source": [
        "if 3==3:\n",
        " print('hola')"
      ],
      "metadata": {
        "colab": {
          "base_uri": "https://localhost:8080/"
        },
        "id": "KAMMG75G0miB",
        "outputId": "f6170928-70d3-4d6d-d593-451ab011b72a"
      },
      "execution_count": null,
      "outputs": [
        {
          "output_type": "stream",
          "name": "stdout",
          "text": [
            "hola\n"
          ]
        }
      ]
    },
    {
      "cell_type": "code",
      "source": [
        "if 1<2:\n",
        "    print('es verdadero')\n",
        "else:\n",
        "    print('es Falso')"
      ],
      "metadata": {
        "colab": {
          "base_uri": "https://localhost:8080/"
        },
        "id": "FoEAk6jm1CIy",
        "outputId": "a1297afa-65aa-473d-a2d0-f0feedb4cc57"
      },
      "execution_count": null,
      "outputs": [
        {
          "output_type": "stream",
          "name": "stdout",
          "text": [
            "es verdadero\n"
          ]
        }
      ]
    },
    {
      "cell_type": "code",
      "source": [
        "x=9\n",
        "y=7\n",
        "if x<y:\n",
        "  print('x es menor')\n",
        "else:\n",
        "  print('x es mayor')"
      ],
      "metadata": {
        "colab": {
          "base_uri": "https://localhost:8080/"
        },
        "id": "kqxzEd0_2DZ9",
        "outputId": "97045ebd-7a15-4d45-b273-ec1435a3a8a5"
      },
      "execution_count": null,
      "outputs": [
        {
          "output_type": "stream",
          "name": "stdout",
          "text": [
            "x es mayor\n"
          ]
        }
      ]
    },
    {
      "cell_type": "code",
      "source": [
        "Llueve=True"
      ],
      "metadata": {
        "id": "kfFAA4-m2_Ib"
      },
      "execution_count": null,
      "outputs": []
    },
    {
      "cell_type": "code",
      "source": [
        "if Llueve:\n",
        "    print('no salgo')\n",
        "else:\n",
        "    print('salgo')"
      ],
      "metadata": {
        "colab": {
          "base_uri": "https://localhost:8080/"
        },
        "id": "EjgipjCu3HHy",
        "outputId": "b0abcf77-be1d-4457-acc6-d23ed3c8b8e1"
      },
      "execution_count": null,
      "outputs": [
        {
          "output_type": "stream",
          "name": "stdout",
          "text": [
            "no salgo\n"
          ]
        }
      ]
    },
    {
      "cell_type": "code",
      "source": [],
      "metadata": {
        "id": "9GHviSnT3ENz"
      },
      "execution_count": null,
      "outputs": []
    },
    {
      "cell_type": "markdown",
      "source": [
        "💡Pero hay veces que el dia esta lindo pero no puedo andar en bici\n",
        "\n",
        "⚡Voy a andar en bici solo si no llueve y tengo bici"
      ],
      "metadata": {
        "id": "zTvPK8qZcqiH"
      }
    },
    {
      "cell_type": "code",
      "source": [
        "Bici=False"
      ],
      "metadata": {
        "id": "Xz44VpRW3SZp"
      },
      "execution_count": null,
      "outputs": []
    },
    {
      "cell_type": "code",
      "source": [
        "if Bici and not Llueve:\n",
        "  print('salgo en bici')\n",
        "elif not Bici and not Llueve:\n",
        "  print('salgo caminando')\n",
        "else:\n",
        "  print('me quedo en casa')"
      ],
      "metadata": {
        "colab": {
          "base_uri": "https://localhost:8080/"
        },
        "id": "NDXKuLlo3XIZ",
        "outputId": "2ef31d91-95a4-4de3-dc7b-ed91540549d7"
      },
      "execution_count": null,
      "outputs": [
        {
          "output_type": "stream",
          "name": "stdout",
          "text": [
            "me quedo en casa\n"
          ]
        }
      ]
    },
    {
      "cell_type": "markdown",
      "source": [
        "pero hay veces que no llueve pero igual esta feo para salir"
      ],
      "metadata": {
        "id": "tDdQNomB5AT9"
      }
    },
    {
      "cell_type": "code",
      "source": [
        "Nublado=True\n",
        "Llueve=True\n",
        "Bici=True"
      ],
      "metadata": {
        "id": "CQdbRfpP5FQc"
      },
      "execution_count": null,
      "outputs": []
    },
    {
      "cell_type": "code",
      "source": [
        "if not Nublado:\n",
        "  if Bici and not Llueve:\n",
        "   print('salgo en bici')\n",
        "  elif not Bici and not Llueve:\n",
        "    print('salgo a caminar')  \n",
        "  else:\n",
        "   print('me quedo en casa')\n",
        "else:\n",
        "  print('me quedo mirando netflix')"
      ],
      "metadata": {
        "colab": {
          "base_uri": "https://localhost:8080/"
        },
        "id": "cDLuRrlr5KNU",
        "outputId": "8a615dbd-a003-4cdd-cff4-92827ae5117e"
      },
      "execution_count": null,
      "outputs": [
        {
          "output_type": "stream",
          "name": "stdout",
          "text": [
            "me quedo mirando netflix\n"
          ]
        }
      ]
    },
    {
      "cell_type": "markdown",
      "source": [
        "si llueve o hay invasion zombie me quiero quedar en casa mirando Netflix"
      ],
      "metadata": {
        "id": "EPP0N_2b6tk4"
      }
    },
    {
      "cell_type": "code",
      "source": [
        "InvasionZombie=False\n",
        "if Llueve or InvasionZombie:\n",
        "   print('me quedo en casa mirando netflix')\n",
        "else:\n",
        "    print('que vida aburrida')  "
      ],
      "metadata": {
        "colab": {
          "base_uri": "https://localhost:8080/"
        },
        "id": "1OzECY2t60H_",
        "outputId": "b089efe3-cab7-4f87-ca9e-7d57837f32b9"
      },
      "execution_count": null,
      "outputs": [
        {
          "output_type": "stream",
          "name": "stdout",
          "text": [
            "me quedo en casa mirando netflix\n"
          ]
        }
      ]
    },
    {
      "cell_type": "markdown",
      "source": [
        "Hacer un script que dado un numero entero,imprima en pantalla si es negativo,positivo o cero."
      ],
      "metadata": {
        "id": "ORsuNSfP7bzc"
      }
    },
    {
      "cell_type": "code",
      "source": [
        "numero =-7\n",
        "if numero == 0:\n",
        "  print('es cero')\n",
        "elif numero <  0:\n",
        "  print('numero es negativo')\n",
        "else:\n",
        "  print('numero es positivo')"
      ],
      "metadata": {
        "colab": {
          "base_uri": "https://localhost:8080/"
        },
        "id": "b61tcw1n7wvH",
        "outputId": "e51ecbb5-1ed2-42b5-abf8-96e727228b1c"
      },
      "execution_count": null,
      "outputs": [
        {
          "output_type": "stream",
          "name": "stdout",
          "text": [
            "numero es negativo\n"
          ]
        }
      ]
    },
    {
      "cell_type": "markdown",
      "source": [
        "💡La funcion **input** permite obtener texto escrito por teclado.Al llegar a la funcion,e programa se detiene esperando que se escriba algo y se pulse la tecla INTRO,de forma predeterminada,la funcion input() convierte la entrada en una cadena."
      ],
      "metadata": {
        "id": "Zrpymnd-8pzS"
      }
    },
    {
      "cell_type": "code",
      "source": [
        "entrada = input('ingrese numero')\n",
        "type(entrada)"
      ],
      "metadata": {
        "colab": {
          "base_uri": "https://localhost:8080/"
        },
        "id": "904Zj-B29O6Q",
        "outputId": "519b2957-c479-4748-db45-cfdd9ca5066e"
      },
      "execution_count": null,
      "outputs": [
        {
          "name": "stdout",
          "output_type": "stream",
          "text": [
            "ingrese numero3\n"
          ]
        },
        {
          "output_type": "execute_result",
          "data": {
            "text/plain": [
              "str"
            ]
          },
          "metadata": {},
          "execution_count": 128
        }
      ]
    },
    {
      "cell_type": "code",
      "source": [
        "entrada = int(input('ingrese numero'))\n",
        "type(entrada)"
      ],
      "metadata": {
        "colab": {
          "base_uri": "https://localhost:8080/"
        },
        "id": "mTePYyvF932W",
        "outputId": "41fb8d1a-a05a-4c0a-b30f-1552105a86c5"
      },
      "execution_count": null,
      "outputs": [
        {
          "name": "stdout",
          "output_type": "stream",
          "text": [
            "ingrese numero6\n"
          ]
        },
        {
          "output_type": "execute_result",
          "data": {
            "text/plain": [
              "int"
            ]
          },
          "metadata": {},
          "execution_count": 129
        }
      ]
    },
    {
      "cell_type": "markdown",
      "source": [
        "💡Bucle While\n",
        "\n",
        "💡El bucle while evalúa una condición y luego ejecuta un bloque de código si la condición es verdadera.\n",
        "\n",
        "💡El bloque de código se ejecuta repetidamente hasta que la condición llega ser o es falsa."
      ],
      "metadata": {
        "id": "kbD9LB7-zPXN"
      }
    },
    {
      "cell_type": "code",
      "source": [
        "while condicion:\n",
        "  #ejectuta codigo"
      ],
      "metadata": {
        "id": "Jdg4DDTz-LL2"
      },
      "execution_count": null,
      "outputs": []
    },
    {
      "cell_type": "code",
      "source": [
        "numeroEntrada = int(input('ingrese un numero'))\n",
        "\n",
        "while numeroEntrada < 100:\n",
        "  numeroEntrada = numeroEntrada*2\n",
        "  print('el numero es ', numeroEntrada)"
      ],
      "metadata": {
        "colab": {
          "base_uri": "https://localhost:8080/"
        },
        "id": "tik37z8y-UUd",
        "outputId": "28e1cc15-06fd-4390-9775-ba4bc6678ca0"
      },
      "execution_count": null,
      "outputs": [
        {
          "output_type": "stream",
          "name": "stdout",
          "text": [
            "ingrese un numero1\n",
            "el numero es  2\n",
            "el numero es  4\n",
            "el numero es  8\n",
            "el numero es  16\n",
            "el numero es  32\n",
            "el numero es  64\n",
            "el numero es  128\n"
          ]
        }
      ]
    },
    {
      "cell_type": "code",
      "source": [
        "numeroEntrada = int(input('ingrese un numero'))\n",
        "\n",
        "while numeroEntrada < 100:\n",
        "  if numeroEntrada <= 50:\n",
        "   numeroEntrada = numeroEntrada*2\n",
        "  else:\n",
        "    break\n",
        "  print('el numero es ', numeroEntrada)"
      ],
      "metadata": {
        "colab": {
          "base_uri": "https://localhost:8080/"
        },
        "id": "mnnKPbncBV8S",
        "outputId": "06c0dcbd-caba-45da-f960-9fe26b5daa4e"
      },
      "execution_count": null,
      "outputs": [
        {
          "output_type": "stream",
          "name": "stdout",
          "text": [
            "ingrese un numero1\n",
            "el numero es  2\n",
            "el numero es  4\n",
            "el numero es  8\n",
            "el numero es  16\n",
            "el numero es  32\n",
            "el numero es  64\n"
          ]
        }
      ]
    },
    {
      "cell_type": "markdown",
      "source": [
        "el bucle while siempre tiene que tener una condicion para que evite los loops infinitos"
      ],
      "metadata": {
        "id": "qwK2qjiwCBJv"
      }
    },
    {
      "cell_type": "markdown",
      "source": [
        "tarea:crear un script que reciba un nombre de usuario y contraseña y compruebe si es correcta,en caso contrario,que la pida nuevamente."
      ],
      "metadata": {
        "id": "7gJv1cCrCP26"
      }
    },
    {
      "cell_type": "code",
      "source": [
        "usuario='pedro'\n",
        "contrasenia='Facil1234'\n",
        "\n",
        "InputUsuario=input('ingrese nombre de usuario')\n",
        "InputContrasenia=input('ingrese su Contraseña')\n",
        "\n",
        "while InputUsuario != usuario or InputContrasenia != contrasenia:\n",
        "  print ('su usuario o contraseña son incorrectas,por favor ingrese nuevamente')\n",
        "  InputUsuario=input('ingrese nombre de usuario')\n",
        "  InputContrasenia=input('ingrese su Contraseña')\n",
        "\n",
        "print('acceso correcto')\n"
      ],
      "metadata": {
        "id": "S1F0qGRqCeKZ",
        "colab": {
          "base_uri": "https://localhost:8080/"
        },
        "outputId": "22071039-53aa-4e75-d3ac-2aa1320bcc92"
      },
      "execution_count": 2,
      "outputs": [
        {
          "output_type": "stream",
          "name": "stdout",
          "text": [
            "ingrese nombre de usuariopedro\n",
            "ingrese su Contraseñafacil1234\n",
            "su usuario o contraseña son incorrectas,por favor ingrese nuevamente\n",
            "ingrese nombre de usuariopedro\n",
            "ingrese su ContraseñaFacil1234\n",
            "acceso correcto\n"
          ]
        }
      ]
    },
    {
      "cell_type": "markdown",
      "source": [
        "Listas"
      ],
      "metadata": {
        "id": "lvv0zRdpzVA1"
      }
    },
    {
      "cell_type": "markdown",
      "source": [
        "Las listas en python son un tipo de dato que perrmite almacenar datos de cualquier tipo,sería como aeeays en otros lenguajes."
      ],
      "metadata": {
        "id": "j83Gk1yeguc3"
      }
    },
    {
      "cell_type": "code",
      "source": [
        "ListaDeNombres = ['pedro','Mariano','Mauricio','Lucas','Rocio','gisela','Matias','Irene',1,2,3,['123','1']]"
      ],
      "metadata": {
        "id": "QzLkuSvPg7HQ"
      },
      "execution_count": 46,
      "outputs": []
    },
    {
      "cell_type": "code",
      "source": [
        "ListaDeNombres"
      ],
      "metadata": {
        "colab": {
          "base_uri": "https://localhost:8080/"
        },
        "id": "2CrbCiPAhZ3l",
        "outputId": "51651ea4-5d34-432e-ac9b-851ede442825"
      },
      "execution_count": 47,
      "outputs": [
        {
          "output_type": "execute_result",
          "data": {
            "text/plain": [
              "['pedro',\n",
              " 'Mariano',\n",
              " 'Mauricio',\n",
              " 'Lucas',\n",
              " 'Rocio',\n",
              " 'gisela',\n",
              " 'Matias',\n",
              " 'Irene',\n",
              " 1,\n",
              " 2,\n",
              " 3,\n",
              " ['123', '1']]"
            ]
          },
          "metadata": {},
          "execution_count": 47
        }
      ]
    },
    {
      "cell_type": "markdown",
      "source": [
        "por ejemplo,queremos acceder al indice 13 de la lista"
      ],
      "metadata": {
        "id": "LCJVGttQhlx2"
      }
    },
    {
      "cell_type": "code",
      "source": [
        "ListaDeNombres[0]"
      ],
      "metadata": {
        "colab": {
          "base_uri": "https://localhost:8080/"
        },
        "id": "TG4O2oGEhqSe",
        "outputId": "f723ab8f-4ada-4b24-a94d-d6caf55b1d61"
      },
      "execution_count": 13,
      "outputs": [
        {
          "output_type": "execute_result",
          "data": {
            "text/plain": [
              "13"
            ]
          },
          "metadata": {},
          "execution_count": 13
        }
      ]
    },
    {
      "cell_type": "markdown",
      "source": [
        "tarea:generar una lista con los roles del mundo de los datos"
      ],
      "metadata": {
        "id": "5WO913Xdi0cL"
      }
    },
    {
      "cell_type": "code",
      "source": [
        "ListaDeRoles = ['Analista de Datos','Ingeniero de Datos','Cientifico de Datos','Arquitecto de Datos']"
      ],
      "metadata": {
        "id": "dkHfLgXTjNE-"
      },
      "execution_count": 14,
      "outputs": []
    },
    {
      "cell_type": "code",
      "source": [
        "type(ListaDeRoles[0])"
      ],
      "metadata": {
        "colab": {
          "base_uri": "https://localhost:8080/"
        },
        "id": "IGVZ3CRUjiYA",
        "outputId": "fdfb2d8b-8b7b-4431-927c-3c745f083799"
      },
      "execution_count": 15,
      "outputs": [
        {
          "output_type": "execute_result",
          "data": {
            "text/plain": [
              "str"
            ]
          },
          "metadata": {},
          "execution_count": 15
        }
      ]
    },
    {
      "cell_type": "markdown",
      "source": [
        "¿como saber la cantidad d eelementos?"
      ],
      "metadata": {
        "id": "nTLxoQ8pjx7f"
      }
    },
    {
      "cell_type": "markdown",
      "source": [
        "💡Uso de **len()** se utiliza para saber la longitud de la lista\n",
        "\n",
        "\n",
        "es un metodo?no,estoy usando la funcion **len()** y le estoy pasando como parametro mi \"lista de roles\"\n",
        "\n",
        "¡¡¡atencion!! **len()** empieza en la posicion 1 ,por eso se pone el signo \"menos\""
      ],
      "metadata": {
        "id": "javMEG1Fj4Jn"
      }
    },
    {
      "cell_type": "code",
      "source": [
        "len(ListaDeRoles)"
      ],
      "metadata": {
        "colab": {
          "base_uri": "https://localhost:8080/"
        },
        "id": "JuNWvjxkki8-",
        "outputId": "1cd97d14-0481-45ec-bd28-2f06d743c541"
      },
      "execution_count": 17,
      "outputs": [
        {
          "output_type": "execute_result",
          "data": {
            "text/plain": [
              "4"
            ]
          },
          "metadata": {},
          "execution_count": 17
        }
      ]
    },
    {
      "cell_type": "code",
      "source": [
        "len(ListaDeNombres[13])"
      ],
      "metadata": {
        "colab": {
          "base_uri": "https://localhost:8080/",
          "height": 172
        },
        "id": "obiXYf5Kk3dr",
        "outputId": "d228f968-cc78-4427-cc69-ac003b8bc8e7"
      },
      "execution_count": 20,
      "outputs": [
        {
          "output_type": "error",
          "ename": "IndexError",
          "evalue": "ignored",
          "traceback": [
            "\u001b[0;31m---------------------------------------------------------------------------\u001b[0m",
            "\u001b[0;31mIndexError\u001b[0m                                Traceback (most recent call last)",
            "\u001b[0;32m<ipython-input-20-92bb73473e16>\u001b[0m in \u001b[0;36m<module>\u001b[0;34m\u001b[0m\n\u001b[0;32m----> 1\u001b[0;31m \u001b[0mlen\u001b[0m\u001b[0;34m(\u001b[0m\u001b[0mListaDeNombres\u001b[0m\u001b[0;34m[\u001b[0m\u001b[0;36m13\u001b[0m\u001b[0;34m]\u001b[0m\u001b[0;34m)\u001b[0m\u001b[0;34m\u001b[0m\u001b[0;34m\u001b[0m\u001b[0m\n\u001b[0m",
            "\u001b[0;31mIndexError\u001b[0m: list index out of range"
          ]
        }
      ]
    },
    {
      "cell_type": "markdown",
      "source": [
        "tarea:Hacer un script en el cual el usuario ingrese un rol y devuelva por pantalla si pertenece o no a la lista de roles"
      ],
      "metadata": {
        "id": "NaBZJkbMlLCb"
      }
    },
    {
      "cell_type": "code",
      "source": [
        "entrada = input('ingrese un rol de datos')\n",
        "\n",
        "if entrada in ListaDeRoles:\n",
        " print(f'{entrada} pertenece a los roles de datos')\n",
        "else:\n",
        "  print(f'{entrada} no es un rol de datos')"
      ],
      "metadata": {
        "colab": {
          "base_uri": "https://localhost:8080/"
        },
        "id": "DvnonpvQlY-0",
        "outputId": "44e5dac3-33c3-4598-92e6-089463667a64"
      },
      "execution_count": 22,
      "outputs": [
        {
          "output_type": "stream",
          "name": "stdout",
          "text": [
            "ingrese un rol de datosAnalista de Datos\n",
            "Analista de Datos pertenece a los roles de datos\n"
          ]
        }
      ]
    },
    {
      "cell_type": "markdown",
      "source": [
        "💡Uso de **append()** se utiliza para agregar elementos al final de la lista,dado una posicion.\n",
        "\n",
        "tarea:agregar un nuevo rol a la lista de roles en la ultima posicion"
      ],
      "metadata": {
        "id": "PHyUCkKRmcny"
      }
    },
    {
      "cell_type": "code",
      "source": [
        "ListaDeRoles.append('Desarrollador')"
      ],
      "metadata": {
        "id": "2WxpzxfJm4Y2"
      },
      "execution_count": 23,
      "outputs": []
    },
    {
      "cell_type": "code",
      "source": [
        "ListaDeRoles"
      ],
      "metadata": {
        "colab": {
          "base_uri": "https://localhost:8080/"
        },
        "id": "B4qN0_eUnFqE",
        "outputId": "86ea77ab-a664-4a38-ec47-3e81bd1f1fdc"
      },
      "execution_count": 24,
      "outputs": [
        {
          "output_type": "execute_result",
          "data": {
            "text/plain": [
              "['Analista de Datos',\n",
              " 'Ingeniero de Datos',\n",
              " 'Cientifico de Datos',\n",
              " 'Arquitecto de Datos',\n",
              " 'Desarrollador']"
            ]
          },
          "metadata": {},
          "execution_count": 24
        }
      ]
    },
    {
      "cell_type": "markdown",
      "source": [
        "💡Uso de **insert()**se utiliza para agregar elementos a una lista ,dada una posicion\n",
        "\n",
        "**el insert nos pide la posicion y el dato a ingresar**\n",
        "\n",
        "tarea:agrega un rol nuevo a la lista de roles en la ultima posicion"
      ],
      "metadata": {
        "id": "B-OBVRuVnnzr"
      }
    },
    {
      "cell_type": "code",
      "source": [
        "ListaDeRoles.insert(1,'Mago de Datos')"
      ],
      "metadata": {
        "id": "9S5FTwK_npRz"
      },
      "execution_count": 25,
      "outputs": []
    },
    {
      "cell_type": "code",
      "source": [
        "ListaDeRoles"
      ],
      "metadata": {
        "colab": {
          "base_uri": "https://localhost:8080/"
        },
        "id": "243DZV18n9by",
        "outputId": "b82a1227-bbbe-4613-cf51-ca11b211ef9c"
      },
      "execution_count": 26,
      "outputs": [
        {
          "output_type": "execute_result",
          "data": {
            "text/plain": [
              "['Analista de Datos',\n",
              " 'Mago de Datos',\n",
              " 'Ingeniero de Datos',\n",
              " 'Cientifico de Datos',\n",
              " 'Arquitecto de Datos',\n",
              " 'Desarrollador']"
            ]
          },
          "metadata": {},
          "execution_count": 26
        }
      ]
    },
    {
      "cell_type": "markdown",
      "source": [
        "tarea:ahora quiero usar el **insert** para mandarlo al final,o sea agarrar un elemento y mandarlo al final en una nueva posicion.o sea una posicion 7"
      ],
      "metadata": {
        "id": "669XQCJ5olJp"
      }
    },
    {
      "cell_type": "code",
      "source": [
        "ListaDeRoles.insert(len(ListaDeRoles),'Mago de Datos')"
      ],
      "metadata": {
        "id": "U9GCLKJupHNn"
      },
      "execution_count": 27,
      "outputs": []
    },
    {
      "cell_type": "code",
      "source": [
        "ListaDeRoles"
      ],
      "metadata": {
        "colab": {
          "base_uri": "https://localhost:8080/"
        },
        "id": "Rl4Y_ZCqpQaA",
        "outputId": "e2d89261-2387-4dbd-8d11-a74a1815146c"
      },
      "execution_count": 28,
      "outputs": [
        {
          "output_type": "execute_result",
          "data": {
            "text/plain": [
              "['Analista de Datos',\n",
              " 'Mago de Datos',\n",
              " 'Ingeniero de Datos',\n",
              " 'Cientifico de Datos',\n",
              " 'Arquitecto de Datos',\n",
              " 'Desarrollador',\n",
              " 'Mago de Datos']"
            ]
          },
          "metadata": {},
          "execution_count": 28
        }
      ]
    },
    {
      "cell_type": "markdown",
      "source": [
        "nos volvemos a preguntar cuantos datos tenemos"
      ],
      "metadata": {
        "id": "uPs6IsuhpbjE"
      }
    },
    {
      "cell_type": "code",
      "source": [
        "len(ListaDeRoles)"
      ],
      "metadata": {
        "colab": {
          "base_uri": "https://localhost:8080/"
        },
        "id": "2Nlu-krrpvI1",
        "outputId": "242e4660-033f-41e1-c463-8053e5d23480"
      },
      "execution_count": 29,
      "outputs": [
        {
          "output_type": "execute_result",
          "data": {
            "text/plain": [
              "7"
            ]
          },
          "metadata": {},
          "execution_count": 29
        }
      ]
    },
    {
      "cell_type": "markdown",
      "source": [
        "tarea:agregar una lista de numero a la lista de roles"
      ],
      "metadata": {
        "id": "EO9Hgxsmp0He"
      }
    },
    {
      "cell_type": "code",
      "source": [
        "ListaDeRoles.append([33,22,12])"
      ],
      "metadata": {
        "id": "dm5Ra-Jop6uo"
      },
      "execution_count": 30,
      "outputs": []
    },
    {
      "cell_type": "code",
      "source": [
        "ListaDeRoles"
      ],
      "metadata": {
        "colab": {
          "base_uri": "https://localhost:8080/"
        },
        "id": "wrCPbMiFqFqQ",
        "outputId": "1b447156-2bba-41a9-8373-2c221bc981a3"
      },
      "execution_count": 31,
      "outputs": [
        {
          "output_type": "execute_result",
          "data": {
            "text/plain": [
              "['Analista de Datos',\n",
              " 'Mago de Datos',\n",
              " 'Ingeniero de Datos',\n",
              " 'Cientifico de Datos',\n",
              " 'Arquitecto de Datos',\n",
              " 'Desarrollador',\n",
              " 'Mago de Datos',\n",
              " [33, 22, 12]]"
            ]
          },
          "metadata": {},
          "execution_count": 31
        }
      ]
    },
    {
      "cell_type": "markdown",
      "source": [
        "💡Uso de **sum()** se utiliza para saber la suma total de una lista\n",
        "\n",
        "tarea:realizar la suma de la lista de numeros agregados previamente"
      ],
      "metadata": {
        "id": "DaTWckKYqOij"
      }
    },
    {
      "cell_type": "code",
      "source": [
        "len(ListaDeRoles)"
      ],
      "metadata": {
        "colab": {
          "base_uri": "https://localhost:8080/"
        },
        "id": "82FwLiB_qe9h",
        "outputId": "b75c716b-3683-4a3b-bd24-6b75491de61f"
      },
      "execution_count": 32,
      "outputs": [
        {
          "output_type": "execute_result",
          "data": {
            "text/plain": [
              "8"
            ]
          },
          "metadata": {},
          "execution_count": 32
        }
      ]
    },
    {
      "cell_type": "code",
      "source": [
        "sum(ListaDeRoles[len(ListaDeRoles)-1])"
      ],
      "metadata": {
        "colab": {
          "base_uri": "https://localhost:8080/"
        },
        "id": "jX7sF_qfqmC-",
        "outputId": "98fa8e3b-ef4d-43e1-dbc3-afd9c07975c3"
      },
      "execution_count": 33,
      "outputs": [
        {
          "output_type": "execute_result",
          "data": {
            "text/plain": [
              "67"
            ]
          },
          "metadata": {},
          "execution_count": 33
        }
      ]
    },
    {
      "cell_type": "markdown",
      "source": [
        "💡Uso de **count()** se utiliza para saber la cantidad de veces que aparece un determinado elemento en una lista.\n",
        "\n",
        "tarea:verificar la ocurrencia del numero 1 en la lista de numero previamente\n",
        "\n",
        "vemos que el 32 aparece una vez"
      ],
      "metadata": {
        "id": "WzCbK-Tbq5sc"
      }
    },
    {
      "cell_type": "code",
      "source": [
        "(ListaDeRoles[len(ListaDeRoles)-1]).count(22)"
      ],
      "metadata": {
        "colab": {
          "base_uri": "https://localhost:8080/"
        },
        "id": "MOHZPzZgrRb3",
        "outputId": "2f5caa54-b16f-4870-868c-0684fb04f740"
      },
      "execution_count": 35,
      "outputs": [
        {
          "output_type": "execute_result",
          "data": {
            "text/plain": [
              "1"
            ]
          },
          "metadata": {},
          "execution_count": 35
        }
      ]
    },
    {
      "cell_type": "code",
      "source": [
        "ListaDeRoles.count('Analista de Datos')"
      ],
      "metadata": {
        "colab": {
          "base_uri": "https://localhost:8080/"
        },
        "id": "NAOviiIbrpYB",
        "outputId": "86adb93c-e8f4-4acf-ece8-1aeadea336a0"
      },
      "execution_count": 36,
      "outputs": [
        {
          "output_type": "execute_result",
          "data": {
            "text/plain": [
              "1"
            ]
          },
          "metadata": {},
          "execution_count": 36
        }
      ]
    },
    {
      "cell_type": "markdown",
      "source": [
        "💡Uso de **extend()** se utiliza para extender o unificar dos listas\n",
        "\n",
        "tarea: agregar una lista de strings a la lista de roles"
      ],
      "metadata": {
        "id": "wYW9Epskr0pK"
      }
    },
    {
      "cell_type": "code",
      "source": [
        "ListaDeNombres = ['pedro','Mariano','Mauricio','Lucas','Rocio','gisela','Matias','Irene',1,2,3,['123','1']]"
      ],
      "metadata": {
        "id": "8rC6XM_RtHVb"
      },
      "execution_count": 48,
      "outputs": []
    },
    {
      "cell_type": "code",
      "source": [
        "ListaDeNombres"
      ],
      "metadata": {
        "colab": {
          "base_uri": "https://localhost:8080/"
        },
        "id": "I4E6TEoUtK2k",
        "outputId": "13846f10-663a-47d6-f1ee-e086d073ae6c"
      },
      "execution_count": 49,
      "outputs": [
        {
          "output_type": "execute_result",
          "data": {
            "text/plain": [
              "['pedro',\n",
              " 'Mariano',\n",
              " 'Mauricio',\n",
              " 'Lucas',\n",
              " 'Rocio',\n",
              " 'gisela',\n",
              " 'Matias',\n",
              " 'Irene',\n",
              " 1,\n",
              " 2,\n",
              " 3,\n",
              " ['123', '1']]"
            ]
          },
          "metadata": {},
          "execution_count": 49
        }
      ]
    },
    {
      "cell_type": "code",
      "source": [
        "ListaDeRoles"
      ],
      "metadata": {
        "colab": {
          "base_uri": "https://localhost:8080/"
        },
        "id": "vyxqzfuFsWzX",
        "outputId": "e9a446be-043c-4ee3-b2ed-3cce240c7876"
      },
      "execution_count": 41,
      "outputs": [
        {
          "output_type": "execute_result",
          "data": {
            "text/plain": [
              "['Analista de Datos',\n",
              " 'Mago de Datos',\n",
              " 'Ingeniero de Datos',\n",
              " 'Cientifico de Datos',\n",
              " 'Arquitecto de Datos',\n",
              " 'Desarrollador',\n",
              " 'Mago de Datos',\n",
              " [33, 22, 12]]"
            ]
          },
          "metadata": {},
          "execution_count": 41
        }
      ]
    },
    {
      "cell_type": "markdown",
      "source": [
        "a mi \"lista de roles\"le incorporo mi \"lista de nombres \" con **extend**"
      ],
      "metadata": {
        "id": "Eh_0lLn5tTto"
      }
    },
    {
      "cell_type": "code",
      "source": [
        "ListaDeRoles.extend(ListaDeNombres)\n",
        "ListaDeRoles"
      ],
      "metadata": {
        "colab": {
          "base_uri": "https://localhost:8080/"
        },
        "id": "MWQblKIptaA7",
        "outputId": "9af2dd41-60f6-4227-9d6c-8c2adca8d770"
      },
      "execution_count": 50,
      "outputs": [
        {
          "output_type": "execute_result",
          "data": {
            "text/plain": [
              "['Analista de Datos',\n",
              " 'Mago de Datos',\n",
              " 'Ingeniero de Datos',\n",
              " 'Cientifico de Datos',\n",
              " 'Arquitecto de Datos',\n",
              " 'Desarrollador',\n",
              " 'Mago de Datos',\n",
              " [33, 22, 12],\n",
              " 'pedro',\n",
              " 'Mariano',\n",
              " 'Mauricio',\n",
              " 'Lucas',\n",
              " 'Rocio',\n",
              " 'gisela',\n",
              " 'Matias',\n",
              " 'Irene',\n",
              " 1,\n",
              " 2,\n",
              " 3,\n",
              " ['123', '1']]"
            ]
          },
          "metadata": {},
          "execution_count": 50
        }
      ]
    },
    {
      "cell_type": "code",
      "source": [
        "len(ListaDeRoles)"
      ],
      "metadata": {
        "colab": {
          "base_uri": "https://localhost:8080/"
        },
        "id": "eQ9CEFKatlkK",
        "outputId": "35dc02af-86a3-486b-e385-fa95c79b0553"
      },
      "execution_count": 53,
      "outputs": [
        {
          "output_type": "execute_result",
          "data": {
            "text/plain": [
              "20"
            ]
          },
          "metadata": {},
          "execution_count": 53
        }
      ]
    },
    {
      "cell_type": "markdown",
      "source": [
        "💡Uso de **index()** se utiliza para saber la posicion de un determinado elemento\n",
        "\n",
        "tarea:se quiere saber en que posicion equedo \"data engineer\""
      ],
      "metadata": {
        "id": "6HqYpyR5uP0g"
      }
    },
    {
      "cell_type": "code",
      "source": [
        "ListaDeRoles.index('pedro')"
      ],
      "metadata": {
        "colab": {
          "base_uri": "https://localhost:8080/"
        },
        "id": "G7isQBzfuzuO",
        "outputId": "b5789f5b-1cee-4cb1-dcca-9502e8b410c5"
      },
      "execution_count": 54,
      "outputs": [
        {
          "output_type": "execute_result",
          "data": {
            "text/plain": [
              "8"
            ]
          },
          "metadata": {},
          "execution_count": 54
        }
      ]
    },
    {
      "cell_type": "markdown",
      "source": [
        "💡Uso de **remove()** se utiliza para eliminar un elemento de la lista\n",
        "\n",
        "tarea: se quiere saber en que posicion quedó el \"data analyst\""
      ],
      "metadata": {
        "id": "TLggxmIEu93m"
      }
    },
    {
      "cell_type": "code",
      "source": [
        "ListaDeRoles.remove('pedro')"
      ],
      "metadata": {
        "id": "AjFoAQasvafc"
      },
      "execution_count": 55,
      "outputs": []
    },
    {
      "cell_type": "code",
      "source": [
        "ListaDeRoles"
      ],
      "metadata": {
        "colab": {
          "base_uri": "https://localhost:8080/"
        },
        "id": "0VhSl3Rfv470",
        "outputId": "131304ed-fc7a-4c19-8dc6-3d48333af0f5"
      },
      "execution_count": 56,
      "outputs": [
        {
          "output_type": "execute_result",
          "data": {
            "text/plain": [
              "['Analista de Datos',\n",
              " 'Mago de Datos',\n",
              " 'Ingeniero de Datos',\n",
              " 'Cientifico de Datos',\n",
              " 'Arquitecto de Datos',\n",
              " 'Desarrollador',\n",
              " 'Mago de Datos',\n",
              " [33, 22, 12],\n",
              " 'Mariano',\n",
              " 'Mauricio',\n",
              " 'Lucas',\n",
              " 'Rocio',\n",
              " 'gisela',\n",
              " 'Matias',\n",
              " 'Irene',\n",
              " 1,\n",
              " 2,\n",
              " 3,\n",
              " ['123', '1']]"
            ]
          },
          "metadata": {},
          "execution_count": 56
        }
      ]
    },
    {
      "cell_type": "markdown",
      "source": [
        "por ultimo,queremos sacar el promedio de la lista de numeros que se agregó previamente"
      ],
      "metadata": {
        "id": "FYBg82L8wD1y"
      }
    },
    {
      "cell_type": "markdown",
      "source": [
        "primero buscamos la posicion en que está"
      ],
      "metadata": {
        "id": "SVaoPS4swWVz"
      }
    },
    {
      "cell_type": "code",
      "source": [
        "ListaDeRoles.index([33,22,12])"
      ],
      "metadata": {
        "colab": {
          "base_uri": "https://localhost:8080/"
        },
        "id": "30jalPsywavq",
        "outputId": "8cbf1ddd-2023-4392-afa3-f8ba7da67b03"
      },
      "execution_count": 57,
      "outputs": [
        {
          "output_type": "execute_result",
          "data": {
            "text/plain": [
              "7"
            ]
          },
          "metadata": {},
          "execution_count": 57
        }
      ]
    },
    {
      "cell_type": "code",
      "source": [
        "cantidadDeElementos = len(ListaDeRoles[7])\n",
        "suma = sum(ListaDeRoles[7])\n",
        "promedio = suma/cantidadDeElementos\n",
        "print(f'el promedio es {promedio}')"
      ],
      "metadata": {
        "colab": {
          "base_uri": "https://localhost:8080/"
        },
        "id": "j7nCf_jnwr1o",
        "outputId": "42a4c361-5506-44e1-81f0-761b91ed53be"
      },
      "execution_count": 58,
      "outputs": [
        {
          "output_type": "stream",
          "name": "stdout",
          "text": [
            "el promedio es 22.333333333333332\n"
          ]
        }
      ]
    },
    {
      "cell_type": "markdown",
      "source": [
        "Funciones\n",
        "1. La palabra clave def\n",
        "2. Un nombre de función\n",
        "3. Paréntesis '()', y dentro de los paréntesis los parámetros de entrada, aunque los parámetros de entrada sean opcionales.\n",
        "4. Dos puntos ':'\n",
        "5. Algún bloque de código para ejecutar"
      ],
      "metadata": {
        "id": "-SH1v75IzZWu"
      }
    },
    {
      "cell_type": "markdown",
      "source": [
        "** asi como vimos que hay algunas funciones que nos facilitan la existencia y nos salvan de reinventar constantemente,muchas vececs (o siempre) necesitamos fucniones muy especificas que tenemos que realizarlas nosotros mismos,es por eso que no nos queda otra que aprender a hacerlas**"
      ],
      "metadata": {
        "id": "dPpZIzL8x87F"
      }
    },
    {
      "cell_type": "markdown",
      "source": [
        "ejemplo:definir una funciona que sume dos variables\n",
        "\n",
        "no olvidarse del \"return\""
      ],
      "metadata": {
        "id": "9ztk7xrgyeBM"
      }
    },
    {
      "cell_type": "code",
      "source": [
        "def fsuma(x,y):\n",
        "  return int(x) + int(y)\n",
        "a=1\n",
        "b=3\n",
        "resultado=fsuma(a,b)\n",
        "print(resultado)"
      ],
      "metadata": {
        "colab": {
          "base_uri": "https://localhost:8080/"
        },
        "id": "HT75I1oIyhqc",
        "outputId": "b0911beb-a2b3-41ac-8d40-3f2f06143c7f"
      },
      "execution_count": 59,
      "outputs": [
        {
          "output_type": "stream",
          "name": "stdout",
          "text": [
            "4\n"
          ]
        }
      ]
    },
    {
      "cell_type": "markdown",
      "source": [
        "podemos tener dos \"return\""
      ],
      "metadata": {
        "id": "JxVdW2inz4Wo"
      }
    },
    {
      "cell_type": "code",
      "source": [
        "def fsuma(x,y):\n",
        "  return int(x),int(y)\n",
        "a=1\n",
        "b=3\n",
        "(resultado_x,resultado_y)=fsuma(a,b)\n",
        "print(resultado_x)\n",
        "print(resultado_y)"
      ],
      "metadata": {
        "colab": {
          "base_uri": "https://localhost:8080/"
        },
        "id": "dkCIEWlQz7v6",
        "outputId": "4ddb5be1-8a15-48da-9f2d-42451f6dc6d6"
      },
      "execution_count": 61,
      "outputs": [
        {
          "output_type": "stream",
          "name": "stdout",
          "text": [
            "1\n",
            "3\n"
          ]
        }
      ]
    },
    {
      "cell_type": "markdown",
      "source": [
        "tarea: generar una funcion que retorne el idioma de Argentina"
      ],
      "metadata": {
        "id": "dzJlIfFNzaqC"
      }
    },
    {
      "cell_type": "code",
      "source": [
        "def idioma_argentina():\n",
        "  return'español'\n",
        "idioma = idioma_argentina()\n",
        "print(idioma)"
      ],
      "metadata": {
        "colab": {
          "base_uri": "https://localhost:8080/"
        },
        "id": "yGTn1uDn0ofW",
        "outputId": "69063309-23ca-4a4e-b25a-b767697d8471"
      },
      "execution_count": 62,
      "outputs": [
        {
          "output_type": "stream",
          "name": "stdout",
          "text": [
            "español\n"
          ]
        }
      ]
    },
    {
      "cell_type": "markdown",
      "source": [
        "tarea:generar una funcion que tome un string y retorne el mismo string pero en mayuscula"
      ],
      "metadata": {
        "id": "H_VyMYu51Fnu"
      }
    },
    {
      "cell_type": "code",
      "source": [
        "def mayus(palabra):\n",
        "  palabra = str(palabra).upper()\n",
        "  return palabra\n",
        "\n",
        "mayus('pEdro PerrYra1234')"
      ],
      "metadata": {
        "colab": {
          "base_uri": "https://localhost:8080/",
          "height": 36
        },
        "id": "KSobrIUr1NkV",
        "outputId": "e9d394cc-52c2-46f3-b023-c21a8b33e4c1"
      },
      "execution_count": 67,
      "outputs": [
        {
          "output_type": "execute_result",
          "data": {
            "text/plain": [
              "'PEDRO PERRYRA1234'"
            ],
            "application/vnd.google.colaboratory.intrinsic+json": {
              "type": "string"
            }
          },
          "metadata": {},
          "execution_count": 67
        }
      ]
    },
    {
      "cell_type": "markdown",
      "source": [
        "tarea:generar una funcion que tome dos numeros y multiplique el primero por 2 hasta que sea mayor que el segundo"
      ],
      "metadata": {
        "id": "IrvmmoaY2B8s"
      }
    },
    {
      "cell_type": "code",
      "source": [
        "def funcion(x,y):\n",
        "  while(x<y):\n",
        "    x=2*x\n",
        "    return x,y\n",
        "a,b = funcion(3,90)\n",
        "print(a)\n",
        "print(b)"
      ],
      "metadata": {
        "colab": {
          "base_uri": "https://localhost:8080/"
        },
        "id": "5MhT0C3b2WS4",
        "outputId": "62762435-f133-4cec-b611-6e1585694599"
      },
      "execution_count": 68,
      "outputs": [
        {
          "output_type": "stream",
          "name": "stdout",
          "text": [
            "6\n",
            "90\n"
          ]
        }
      ]
    },
    {
      "cell_type": "markdown",
      "source": [
        "tarea:generar una funcion que tome un numero entero y que retorne si e spar o impar"
      ],
      "metadata": {
        "id": "juvbnjXP3G9u"
      }
    },
    {
      "cell_type": "code",
      "source": [
        "def sumaMasDiez(x):\n",
        "  return int(x)+10\n",
        "\n",
        "suma=sumaMasDiez(11)\n",
        "print(suma)"
      ],
      "metadata": {
        "colab": {
          "base_uri": "https://localhost:8080/"
        },
        "id": "VKSDreyH3Zfu",
        "outputId": "72ec98f8-0a88-4aaf-baa9-62d7443db443"
      },
      "execution_count": 69,
      "outputs": [
        {
          "output_type": "stream",
          "name": "stdout",
          "text": [
            "21\n"
          ]
        }
      ]
    },
    {
      "cell_type": "markdown",
      "source": [
        "tarea:generar una funcion que tome un numero entero y que retorne si es par o impar"
      ],
      "metadata": {
        "id": "HIVbVRZP3-LL"
      }
    },
    {
      "cell_type": "code",
      "source": [
        "def par(num):\n",
        "  return(num%2==0)\n",
        "par(0)"
      ],
      "metadata": {
        "colab": {
          "base_uri": "https://localhost:8080/"
        },
        "id": "Zy0k0oGS3u9T",
        "outputId": "7df3334b-5ca4-4395-f339-6345a08ae925"
      },
      "execution_count": 70,
      "outputs": [
        {
          "output_type": "execute_result",
          "data": {
            "text/plain": [
              "True"
            ]
          },
          "metadata": {},
          "execution_count": 70
        }
      ]
    },
    {
      "cell_type": "code",
      "source": [
        "def parOnoPar(a):\n",
        "  if a%2 == 0:\n",
        "    return 'es par'\n",
        "  else:\n",
        "    return 'no es par'\n",
        "blip =parOnoPar(6)\n",
        "print(blip)"
      ],
      "metadata": {
        "colab": {
          "base_uri": "https://localhost:8080/"
        },
        "id": "fQRbxxrw4Qez",
        "outputId": "1004af77-9fc2-4f87-82a4-67dfdbad8442"
      },
      "execution_count": 72,
      "outputs": [
        {
          "output_type": "stream",
          "name": "stdout",
          "text": [
            "es par\n"
          ]
        }
      ]
    }
  ]
}